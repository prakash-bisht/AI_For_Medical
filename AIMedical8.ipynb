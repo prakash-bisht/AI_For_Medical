{
  "nbformat": 4,
  "nbformat_minor": 0,
  "metadata": {
    "colab": {
      "name": "AIMedical8.ipynb",
      "provenance": [],
      "collapsed_sections": []
    },
    "kernelspec": {
      "name": "python3",
      "display_name": "Python 3"
    },
    "language_info": {
      "name": "python"
    }
  },
  "cells": [
    {
      "cell_type": "code",
      "metadata": {
        "id": "8dm2aUkvDX6M"
      },
      "source": [
        "\n",
        "    #Atrial fibrillation: Chads-vasc score\n",
        "    #Liver disease: MELD score\n",
        "    #Heart disease: ASCVD score\n"
      ],
      "execution_count": null,
      "outputs": []
    },
    {
      "cell_type": "code",
      "metadata": {
        "id": "sgfR3NssHmOK"
      },
      "source": [
        "def chads_vasc_score(input_c,input_h,input_a2,input_d,input_s2,input_v,input_a,input_sc):\n",
        "  coef_c = 1\n",
        "  coef_h = 1\n",
        "  coef_a2 = 2\n",
        "  coef_d = 1\n",
        "  coef_s2 = 2\n",
        "  coef_v = 1\n",
        "  coef_a = 1\n",
        "  coef_sc = 1\n",
        "  risk_score = (input_c * coef_c) +\\\n",
        "               (input_h * coef_h) +\\\n",
        "               (input_a2 * coef_a2) +\\\n",
        "               (input_d * coef_d) +\\\n",
        "               (input_s2 * coef_s2) +\\\n",
        "               (input_v * coef_v) +\\\n",
        "               (input_a * coef_a) +\\\n",
        "               (input_sc * coef_sc)\n",
        "  return risk_score \n"
      ],
      "execution_count": null,
      "outputs": []
    },
    {
      "cell_type": "code",
      "metadata": {
        "id": "OlQ4AAY1DaKp"
      },
      "source": [
        "'''\n",
        "    Congestive heart failure? No\n",
        "    Hypertension: yes\n",
        "    Age 75 or older: no\n",
        "    Diabetes mellitus: no\n",
        "    Stroke: no\n",
        "    Vascular disease: yes\n",
        "    Age 65 to 74: no\n",
        "    Female? : yes\n",
        "'''"
      ],
      "execution_count": null,
      "outputs": []
    },
    {
      "cell_type": "code",
      "metadata": {
        "colab": {
          "base_uri": "https://localhost:8080/"
        },
        "id": "tUi_XkXRDaOP",
        "outputId": "59221142-6dcf-41f7-ebef-794ccd618d8d"
      },
      "source": [
        "tmp_c = 0\n",
        "tmp_h = 1\n",
        "tmp_a2 = 0\n",
        "tmp_d = 0\n",
        "tmp_s2 = 0\n",
        "tmp_v = 1\n",
        "tmp_a = 0\n",
        "tmp_sc = 1\n",
        "print(f\"the chads-vasc score: {chads_vasc_score(tmp_c,tmp_h,tmp_a2,tmp_d,tmp_s2,tmp_v,tmp_a,tmp_sc)}\")"
      ],
      "execution_count": null,
      "outputs": [
        {
          "output_type": "stream",
          "text": [
            "the chads-vasc score: 3\n"
          ],
          "name": "stdout"
        }
      ]
    },
    {
      "cell_type": "code",
      "metadata": {
        "id": "xP5dwmBqDaRv"
      },
      "source": [
        "import numpy as np "
      ],
      "execution_count": null,
      "outputs": []
    },
    {
      "cell_type": "code",
      "metadata": {
        "id": "cNkeDZ8yMIHp"
      },
      "source": [
        "def liver_disease_mortality(input_creatine,input_bilirubin,input_inr):\n",
        "  coef_creatine = 0.957\n",
        "  coef_bilirubin = 0.378\n",
        "  coef_inr = 1.12\n",
        "  intercept = 0.643\n",
        "  log_creatine = np.log(input_creatine)\n",
        "  log_bilirubin = np.log(input_bilirubin)\n",
        "  log_inr = np.log(input_inr)\n",
        "  meld_score = (coef_creatine * log_creatine) +\\\n",
        "               (coef_bilirubin * log_bilirubin) +\\\n",
        "               (coef_inr * log_inr) +\\\n",
        "               intercept\n",
        "  meld_score = meld_score * 10\n",
        "  return meld_score"
      ],
      "execution_count": null,
      "outputs": []
    },
    {
      "cell_type": "code",
      "metadata": {
        "id": "F_hHeWC4MIKe"
      },
      "source": [
        "'''\n",
        "    Creatinine: 1 mg/dL\n",
        "    Bilirubin: 2 mg/dL\n",
        "    INR: 1.1\n"
      ],
      "execution_count": null,
      "outputs": []
    },
    {
      "cell_type": "code",
      "metadata": {
        "colab": {
          "base_uri": "https://localhost:8080/"
        },
        "id": "pZzZ0JsIMINE",
        "outputId": "8d0b34d6-581f-4942-be29-8fe5568798ad"
      },
      "source": [
        "tmp_creatine = 1.0\n",
        "tmp_bilirubin = 2.0\n",
        "tmp_inr = 1.1\n",
        "print(f\"meld score: {liver_disease_mortality(tmp_creatine,tmp_bilirubin,tmp_inr):.2f}\")"
      ],
      "execution_count": null,
      "outputs": [
        {
          "output_type": "stream",
          "text": [
            "meld score: 10.12\n"
          ],
          "name": "stdout"
        }
      ]
    },
    {
      "cell_type": "code",
      "metadata": {
        "id": "GOYaUKyjMIPu"
      },
      "source": [
        "'''\n",
        "    Ln(Age), coefficient is 17.114\n",
        "    Ln(total cholesterol): coefficient is 0.94\n",
        "    Ln(HDL): coefficient is -18.920\n",
        "    Ln(Age) x Ln(HDL-C): coefficient is 4.475\n",
        "    Ln (Untreated systolic BP): coefficient is 27.820\n",
        "    Ln (Age) x Ln 10 (Untreated systolic BP): coefficient is -6.087\n",
        "    Current smoker (1 or 0): coefficient is 0.691\n",
        "    Diabetes (1 or 0): coefficient is 0.874\n"
      ],
      "execution_count": null,
      "outputs": []
    },
    {
      "cell_type": "code",
      "metadata": {
        "id": "MWluuiOXMISH"
      },
      "source": [
        "def ascvd(x_age,x_cho,x_hdl,x_sbp,x_smo,x_dia,verbose=False):\n",
        "  b_age = 17.114\n",
        "  b_cho = 0.94\n",
        "  b_hdl = -18.920\n",
        "  b_age_hdl = 4.475\n",
        "  b_sbp = 27.820\n",
        "  b_age_sbp = -6.087\n",
        "  b_smo = 0.691\n",
        "  b_dia = 0.874\n",
        "  sum_prod =  (b_age * np.log(x_age)) +\\\n",
        "              (b_cho * np.log(x_cho)) +\\\n",
        "              (b_hdl * np.log(x_hdl)) +\\\n",
        "              (b_age_hdl * np.log(x_age) * np.log(x_hdl)) +\\\n",
        "              (b_sbp * np.log(x_sbp)) +\\\n",
        "              (b_age_sbp * np.log(x_age) * np.log(x_sbp)) +\\\n",
        "              (b_smo * x_smo) +\\\n",
        "              (b_dia  * x_dia)\n",
        "  if verbose:\n",
        "    print(f\"np.log(x_age):{np.log(x_age):.2f}\")\n",
        "    print(f\"np.log(x_cho):{np.log(x_cho):.2f}\")\n",
        "    print(f\"np.log(x_hdl):{np.log(x_hdl):.2f}\")\n",
        "    print(f\"np.log(x_age) * np.log(x_hdl):{np.log(x_age) * np.log(x_hdl):.2f}\")\n",
        "    print(f\"np.log(x_sbp): {np.log(x_sbp):2f}\")\n",
        "    print(f\"np.log(x_age) * np.log(x_sbp): {np.log(x_age) * np.log(x_sbp):.2f}\")\n",
        "    print(f\"sum_prod {sum_prod:.2f}\")\n",
        "  risk_score = 1 - 0.9533 **(np.exp(sum_prod - 86.61))\n",
        "  return risk_score "
      ],
      "execution_count": null,
      "outputs": []
    },
    {
      "cell_type": "code",
      "metadata": {
        "colab": {
          "base_uri": "https://localhost:8080/"
        },
        "id": "e3QIJwGtMIVB",
        "outputId": "ff25e542-1b11-4245-ca30-b8222ec20aa8"
      },
      "source": [
        " tmp_risk_score = ascvd(x_age=55,\n",
        "                      x_cho=213,\n",
        "                      x_hdl=50,\n",
        "                      x_sbp=120,\n",
        "                      x_smo=0,\n",
        "                      x_dia=0, \n",
        "                      verbose=True\n",
        "                      )\n",
        "print(f\"\\npatient's ascvd risk score is {tmp_risk_score:.2f}\")"
      ],
      "execution_count": null,
      "outputs": [
        {
          "output_type": "stream",
          "text": [
            "np.log(x_age):4.01\n",
            "np.log(x_cho):5.36\n",
            "np.log(x_hdl):3.91\n",
            "np.log(x_age) * np.log(x_hdl):15.68\n",
            "np.log(x_sbp): 4.787492\n",
            "np.log(x_age) * np.log(x_sbp): 19.19\n",
            "sum_prod 86.17\n",
            "\n",
            "patient's ascvd risk score is 0.03\n"
          ],
          "name": "stdout"
        }
      ]
    },
    {
      "cell_type": "code",
      "metadata": {
        "id": "3zlTPfEaMIZJ"
      },
      "source": [
        "#c-index"
      ],
      "execution_count": null,
      "outputs": []
    },
    {
      "cell_type": "code",
      "metadata": {
        "id": "wc_qOzb5MG_x"
      },
      "source": [
        "import pandas as pd "
      ],
      "execution_count": null,
      "outputs": []
    },
    {
      "cell_type": "code",
      "metadata": {
        "colab": {
          "base_uri": "https://localhost:8080/"
        },
        "id": "QEpJAA_pMHDJ",
        "outputId": "fe24fd27-b2e8-44d1-8d79-35f6666cd8cc"
      },
      "source": [
        "y = pd.Series([0,0,1,0])\n",
        "y.name=\"health\"\n",
        "y"
      ],
      "execution_count": null,
      "outputs": [
        {
          "output_type": "execute_result",
          "data": {
            "text/plain": [
              "0    0\n",
              "1    0\n",
              "2    1\n",
              "3    0\n",
              "Name: health, dtype: int64"
            ]
          },
          "metadata": {
            "tags": []
          },
          "execution_count": 20
        }
      ]
    },
    {
      "cell_type": "code",
      "metadata": {
        "colab": {
          "base_uri": "https://localhost:8080/"
        },
        "id": "J68W5yD4MHG8",
        "outputId": "189a79a8-213f-4bff-fa6f-16ab35278a5c"
      },
      "source": [
        "risk_score = pd.Series([2.2, 3.3, 4.4, 4.4])\n",
        "risk_score.name='risk score'\n",
        "risk_score"
      ],
      "execution_count": null,
      "outputs": [
        {
          "output_type": "execute_result",
          "data": {
            "text/plain": [
              "0    2.2\n",
              "1    3.3\n",
              "2    4.4\n",
              "3    4.4\n",
              "Name: risk score, dtype: float64"
            ]
          },
          "metadata": {
            "tags": []
          },
          "execution_count": 21
        }
      ]
    },
    {
      "cell_type": "code",
      "metadata": {
        "id": "v63UluaYMHJm"
      },
      "source": [
        "#permissible pairs "
      ],
      "execution_count": null,
      "outputs": []
    },
    {
      "cell_type": "code",
      "metadata": {
        "colab": {
          "base_uri": "https://localhost:8080/"
        },
        "id": "zU1625mLMHMk",
        "outputId": "76765518-310f-426b-9c16-2d8b0976800f"
      },
      "source": [
        "if y[0] != y[1]:\n",
        "  print(f\"y[0]: {y[0]} and y[1]: {y[1]} is a permissible pairs\")\n",
        "else:\n",
        "  print(f\"y[0]: {y[0]} and y[1]: {y[1]} is not a permissible pairs\")"
      ],
      "execution_count": null,
      "outputs": [
        {
          "output_type": "stream",
          "text": [
            "y[0]: 0 and y[1]: 0 is not a permissible pairs\n"
          ],
          "name": "stdout"
        }
      ]
    },
    {
      "cell_type": "code",
      "metadata": {
        "colab": {
          "base_uri": "https://localhost:8080/"
        },
        "id": "KuxAhsLqDaUd",
        "outputId": "d770af35-ef8a-4882-8004-e704b26de842"
      },
      "source": [
        "if y[0] != y[2]:\n",
        "  print(f\"y[0]: {y[0]} and y[2]: {y[2]} is a permissible pairs\")\n",
        "else:\n",
        "  print(f\"y[0]: {y[0]} and y[2]: {y[2]} is not a permissible pairs\")"
      ],
      "execution_count": null,
      "outputs": [
        {
          "output_type": "stream",
          "text": [
            "y[0]: 0 and y[2]: 1 is a permissible pairs\n"
          ],
          "name": "stdout"
        }
      ]
    },
    {
      "cell_type": "code",
      "metadata": {
        "id": "YVN4KqaSbyF7"
      },
      "source": [
        "#risk-ties"
      ],
      "execution_count": null,
      "outputs": []
    },
    {
      "cell_type": "code",
      "metadata": {
        "colab": {
          "base_uri": "https://localhost:8080/"
        },
        "id": "a8WSIPZ4DaXT",
        "outputId": "9f259b49-b5bc-4d3f-f91e-3c0bc73f9fb0"
      },
      "source": [
        "if risk_score[1] == risk_score[2]:\n",
        "  print(f\"patient 1 risk score {risk_score[1]} is risk tie with patient 2 risk score {risk_score[2]}\")\n",
        "else:\n",
        "  print(f\"patient 1 risk score {risk_score[1]} is not risk tie with patient 2 risk score {risk_score[2]}\")"
      ],
      "execution_count": null,
      "outputs": [
        {
          "output_type": "stream",
          "text": [
            "patient 1 risk score 3.3 is not risk tie with patient 2 risk score 4.4\n"
          ],
          "name": "stdout"
        }
      ]
    },
    {
      "cell_type": "code",
      "metadata": {
        "id": "1N3QsaqpDaZg"
      },
      "source": [
        "#concordant pairs"
      ],
      "execution_count": null,
      "outputs": []
    },
    {
      "cell_type": "code",
      "metadata": {
        "colab": {
          "base_uri": "https://localhost:8080/"
        },
        "id": "WA091nS6DacL",
        "outputId": "daf87547-41ef-4003-a973-33eb2e8cca7c"
      },
      "source": [
        "if y[1] == 0 and y[2] == 1:\n",
        "  if risk_score[1] < risk_score[2]:\n",
        "    print(\"patient 1 and patient 2 is a concordant pair\")"
      ],
      "execution_count": null,
      "outputs": [
        {
          "output_type": "stream",
          "text": [
            "patient 1 and patient 2 is a concordant pair\n"
          ],
          "name": "stdout"
        }
      ]
    },
    {
      "cell_type": "code",
      "metadata": {
        "id": "Kz6PRIDJDb3A"
      },
      "source": [
        ""
      ],
      "execution_count": null,
      "outputs": []
    }
  ]
}