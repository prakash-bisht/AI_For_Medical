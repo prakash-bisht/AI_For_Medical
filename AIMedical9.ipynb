{
  "nbformat": 4,
  "nbformat_minor": 0,
  "metadata": {
    "colab": {
      "name": "AIMedical9.ipynb",
      "provenance": [],
      "collapsed_sections": []
    },
    "kernelspec": {
      "name": "python3",
      "display_name": "Python 3"
    },
    "language_info": {
      "name": "python"
    }
  },
  "cells": [
    {
      "cell_type": "code",
      "metadata": {
        "id": "deore9Bycni2"
      },
      "source": [
        "import numpy as np \n",
        "import pandas as pd \n",
        "import matplotlib.pyplot as plt "
      ],
      "execution_count": null,
      "outputs": []
    },
    {
      "cell_type": "code",
      "metadata": {
        "id": "0KGNBb_wcsMC"
      },
      "source": [
        "x = pd.read_csv('X_data.csv',index_col=0)\n",
        "y_def = pd.read_csv('y_data.csv',index_col=0)\n",
        "y = y_def['y']"
      ],
      "execution_count": null,
      "outputs": []
    },
    {
      "cell_type": "code",
      "metadata": {
        "colab": {
          "base_uri": "https://localhost:8080/",
          "height": 206
        },
        "id": "0KP5dU0FcsPG",
        "outputId": "18c5d301-8ca0-44a7-9626-fa26f0f42c4e"
      },
      "source": [
        "x.head()"
      ],
      "execution_count": null,
      "outputs": [
        {
          "output_type": "execute_result",
          "data": {
            "text/html": [
              "<div>\n",
              "<style scoped>\n",
              "    .dataframe tbody tr th:only-of-type {\n",
              "        vertical-align: middle;\n",
              "    }\n",
              "\n",
              "    .dataframe tbody tr th {\n",
              "        vertical-align: top;\n",
              "    }\n",
              "\n",
              "    .dataframe thead th {\n",
              "        text-align: right;\n",
              "    }\n",
              "</style>\n",
              "<table border=\"1\" class=\"dataframe\">\n",
              "  <thead>\n",
              "    <tr style=\"text-align: right;\">\n",
              "      <th></th>\n",
              "      <th>Age</th>\n",
              "      <th>Systolic_BP</th>\n",
              "      <th>Diastolic_BP</th>\n",
              "      <th>Cholesterol</th>\n",
              "    </tr>\n",
              "  </thead>\n",
              "  <tbody>\n",
              "    <tr>\n",
              "      <th>0</th>\n",
              "      <td>77.196340</td>\n",
              "      <td>85.288742</td>\n",
              "      <td>80.021878</td>\n",
              "      <td>79.957109</td>\n",
              "    </tr>\n",
              "    <tr>\n",
              "      <th>1</th>\n",
              "      <td>63.529850</td>\n",
              "      <td>99.379736</td>\n",
              "      <td>84.852361</td>\n",
              "      <td>110.382411</td>\n",
              "    </tr>\n",
              "    <tr>\n",
              "      <th>2</th>\n",
              "      <td>69.003986</td>\n",
              "      <td>111.349455</td>\n",
              "      <td>109.850616</td>\n",
              "      <td>100.828246</td>\n",
              "    </tr>\n",
              "    <tr>\n",
              "      <th>3</th>\n",
              "      <td>82.638210</td>\n",
              "      <td>95.056128</td>\n",
              "      <td>79.666851</td>\n",
              "      <td>87.066303</td>\n",
              "    </tr>\n",
              "    <tr>\n",
              "      <th>4</th>\n",
              "      <td>78.346286</td>\n",
              "      <td>109.154591</td>\n",
              "      <td>90.713220</td>\n",
              "      <td>92.511770</td>\n",
              "    </tr>\n",
              "  </tbody>\n",
              "</table>\n",
              "</div>"
            ],
            "text/plain": [
              "         Age  Systolic_BP  Diastolic_BP  Cholesterol\n",
              "0  77.196340    85.288742     80.021878    79.957109\n",
              "1  63.529850    99.379736     84.852361   110.382411\n",
              "2  69.003986   111.349455    109.850616   100.828246\n",
              "3  82.638210    95.056128     79.666851    87.066303\n",
              "4  78.346286   109.154591     90.713220    92.511770"
            ]
          },
          "metadata": {
            "tags": []
          },
          "execution_count": 3
        }
      ]
    },
    {
      "cell_type": "code",
      "metadata": {
        "colab": {
          "base_uri": "https://localhost:8080/"
        },
        "id": "BXeh-NhecsUo",
        "outputId": "f63a658b-38c5-4b64-e4df-c10261be03bc"
      },
      "source": [
        "y.head()"
      ],
      "execution_count": null,
      "outputs": [
        {
          "output_type": "execute_result",
          "data": {
            "text/plain": [
              "0    1.0\n",
              "1    1.0\n",
              "2    1.0\n",
              "3    1.0\n",
              "4    1.0\n",
              "Name: y, dtype: float64"
            ]
          },
          "metadata": {
            "tags": []
          },
          "execution_count": 4
        }
      ]
    },
    {
      "cell_type": "code",
      "metadata": {
        "id": "4OVpF60AcsYl"
      },
      "source": [
        "from sklearn.model_selection import train_test_split\n",
        "x_train_raw,x_test_raw,y_train,y_test = train_test_split(x,y,test_size=0.73,random_state=0)"
      ],
      "execution_count": null,
      "outputs": []
    },
    {
      "cell_type": "code",
      "metadata": {
        "colab": {
          "base_uri": "https://localhost:8080/",
          "height": 1000
        },
        "id": "t0-VuHnmcsbs",
        "outputId": "d08c1edb-35a7-4fdd-8d13-cd22b3d929a2"
      },
      "source": [
        "for col in x.columns:\n",
        "  x_train_raw.loc[:,col].hist()\n",
        "  plt.title(col)\n",
        "  plt.show()"
      ],
      "execution_count": null,
      "outputs": [
        {
          "output_type": "display_data",
          "data": {
            "image/png": "[encoded data removed]",
            "text/plain": [
              "<Figure size 432x288 with 1 Axes>"
            ]
          },
          "metadata": {
            "tags": [],
            "needs_background": "light"
          }
        },
        {
          "output_type": "display_data",
          "data": {
            "image/png": "[encoded data removed]",
            "text/plain": [
              "<Figure size 432x288 with 1 Axes>"
            ]
          },
          "metadata": {
            "tags": [],
            "needs_background": "light"
          }
        },
        {
          "output_type": "display_data",
          "data": {
            "image/png": "[encoded data removed]",
            "text/plain": [
              "<Figure size 432x288 with 1 Axes>"
            ]
          },
          "metadata": {
            "tags": [],
            "needs_background": "light"
          }
        },
        {
          "output_type": "display_data",
          "data": {
            "image/png": "[encoded data removed]",
            "text/plain": [
              "<Figure size 432x288 with 1 Axes>"
            ]
          },
          "metadata": {
            "tags": [],
            "needs_background": "light"
          }
        }
      ]
    },
    {
      "cell_type": "code",
      "metadata": {
        "id": "N99A9E86csg1"
      },
      "source": [
        "#remove the skew"
      ],
      "execution_count": null,
      "outputs": []
    },
    {
      "cell_type": "code",
      "metadata": {
        "colab": {
          "base_uri": "https://localhost:8080/",
          "height": 1000
        },
        "id": "O8SDnAf4csxu",
        "outputId": "e0036cb6-3b79-4aac-adee-5b62c94f82d3"
      },
      "source": [
        "for col in x_train_raw.columns:\n",
        "  np.log(x_train_raw.loc[:,col]).hist()\n",
        "  plt.title(col)\n",
        "  plt.show()"
      ],
      "execution_count": null,
      "outputs": [
        {
          "output_type": "display_data",
          "data": {
            "image/png": "[encoded data removed]",
            "text/plain": [
              "<Figure size 432x288 with 1 Axes>"
            ]
          },
          "metadata": {
            "tags": [],
            "needs_background": "light"
          }
        },
        {
          "output_type": "display_data",
          "data": {
            "image/png": "[encoded data removed]",
            "text/plain": [
              "<Figure size 432x288 with 1 Axes>"
            ]
          },
          "metadata": {
            "tags": [],
            "needs_background": "light"
          }
        },
        {
          "output_type": "display_data",
          "data": {
            "image/png": "[encoded data removed]",
            "text/plain": [
              "<Figure size 432x288 with 1 Axes>"
            ]
          },
          "metadata": {
            "tags": [],
            "needs_background": "light"
          }
        },
        {
          "output_type": "display_data",
          "data": {
            "image/png": "[encoded data removed]",
            "text/plain": [
              "<Figure size 432x288 with 1 Axes>"
            ]
          },
          "metadata": {
            "tags": [],
            "needs_background": "light"
          }
        }
      ]
    },
    {
      "cell_type": "code",
      "metadata": {
        "id": "fWXgSoo4cs0K"
      },
      "source": [
        "def make_standard_normal(df_train,df_test):\n",
        "  df_train_unskewed = np.log(df_train)\n",
        "  df_test_unskewed = np.log(df_test)\n",
        "  mean = df_train_unskewed.mean(axis=0)\n",
        "  stddev = df_train_unskewed.std(axis=0)\n",
        "  df_train_standarized = (df_train_unskewed - mean) / stddev\n",
        "  df_test_standarized = (df_test_unskewed - mean) / stddev\n",
        "  return df_train_standarized,df_test_standarized"
      ],
      "execution_count": null,
      "outputs": []
    },
    {
      "cell_type": "code",
      "metadata": {
        "colab": {
          "base_uri": "https://localhost:8080/"
        },
        "id": "drTEhvaRcs2y",
        "outputId": "bf860f43-6c86-4961-bd37-2db658a2ebb4"
      },
      "source": [
        "tmp_train = pd.DataFrame({'field1': [1,2,10], 'field2': [4,5,11]})\n",
        "tmp_test = pd.DataFrame({'field1': [1,3,10], 'field2': [4,6,11]})\n",
        "tmp_train_transformed, tmp_test_transformed = make_standard_normal(tmp_train,tmp_test)\n",
        "\n",
        "print(f\"Training set transformed field1 has mean {tmp_train_transformed['field1'].mean(axis=0):.4f} and standard deviation {tmp_train_transformed['field1'].std(axis=0):.4f} \")\n",
        "print(f\"Test set transformed, field1 has mean {tmp_test_transformed['field1'].mean(axis=0):.4f} and standard deviation {tmp_test_transformed['field1'].std(axis=0):.4f}\")\n",
        "print(f\"Skew of training set field1 before transformation: {tmp_train['field1'].skew(axis=0):.4f}\")\n",
        "print(f\"Skew of training set field1 after transformation: {tmp_train_transformed['field1'].skew(axis=0):.4f}\")\n",
        "print(f\"Skew of test set field1 before transformation: {tmp_test['field1'].skew(axis=0):.4f}\")\n",
        "print(f\"Skew of test set field1 after transformation: {tmp_test_transformed['field1'].skew(axis=0):.4f}\")"
      ],
      "execution_count": null,
      "outputs": [
        {
          "output_type": "stream",
          "text": [
            "Training set transformed field1 has mean -0.0000 and standard deviation 1.0000 \n",
            "Test set transformed, field1 has mean 0.1144 and standard deviation 0.9749\n",
            "Skew of training set field1 before transformation: 1.6523\n",
            "Skew of training set field1 after transformation: 1.0857\n",
            "Skew of test set field1 before transformation: 1.3896\n",
            "Skew of test set field1 after transformation: 0.1371\n"
          ],
          "name": "stdout"
        }
      ]
    },
    {
      "cell_type": "code",
      "metadata": {
        "id": "e8Ks_zhWcs5m"
      },
      "source": [
        "x_train,x_test = make_standard_normal(x_train_raw,x_test_raw)"
      ],
      "execution_count": null,
      "outputs": []
    },
    {
      "cell_type": "code",
      "metadata": {
        "id": "Pf0h-OMacs8d"
      },
      "source": [
        "from sklearn.linear_model import LogisticRegression\n",
        "def lr_model(x_train,y_train):\n",
        "  model = LogisticRegression()\n",
        "  model.fit(x_train,y_train)\n",
        "  return model"
      ],
      "execution_count": null,
      "outputs": []
    },
    {
      "cell_type": "code",
      "metadata": {
        "id": "1tO1jmP6cs-q"
      },
      "source": [
        "model_x = lr_model(x_train,y_train)"
      ],
      "execution_count": null,
      "outputs": []
    },
    {
      "cell_type": "code",
      "metadata": {
        "id": "pG_YFTf1ctBa"
      },
      "source": [
        "def cindex(y_true,scores):\n",
        "  n = len(y_true)\n",
        "  assert len(scores) == n\n",
        "  concordant = 0\n",
        "  permissible = 0 \n",
        "  ties = 0 \n",
        "  for i in range(n):\n",
        "    for j in range(i+1,n):\n",
        "      if y_true[i] != y_true[j]:\n",
        "        permissible += 1\n",
        "        if scores[i] == scores[j]:\n",
        "          ties += 1\n",
        "          continue \n",
        "        if y_true[i] == 0  and y_true[j] == 1:\n",
        "          if scores[i] < scores[j]:\n",
        "            concordant += 1 \n",
        "        if y_true[j] == 0 and y_true[i] == 1:\n",
        "          if scores[j] < scores[i]:\n",
        "            concordant += 1\n",
        "  c_index = (concordant + (0.5 * ties)) / permissible\n",
        "  return c_index"
      ],
      "execution_count": null,
      "outputs": []
    },
    {
      "cell_type": "code",
      "metadata": {
        "colab": {
          "base_uri": "https://localhost:8080/"
        },
        "id": "cIN5Li6JctD2",
        "outputId": "176eaf4e-2e0f-4841-956a-c85f243374d4"
      },
      "source": [
        "y_true = np.array([1.0, 0.0, 0.0, 1.0])\n",
        "scores = np.array([0.5, 0.5, 0.0, 1.0])\n",
        "print('Output: {}'.format(cindex(y_true, scores)))\n",
        "cindex(y_true, scores)"
      ],
      "execution_count": null,
      "outputs": [
        {
          "output_type": "stream",
          "text": [
            "Output: 0.875\n"
          ],
          "name": "stdout"
        },
        {
          "output_type": "execute_result",
          "data": {
            "text/plain": [
              "0.875"
            ]
          },
          "metadata": {
            "tags": []
          },
          "execution_count": 19
        }
      ]
    },
    {
      "cell_type": "code",
      "metadata": {
        "colab": {
          "base_uri": "https://localhost:8080/"
        },
        "id": "1nNdcBp-ctGC",
        "outputId": "eafa7c4b-645d-4f38-bbae-32b85e462bff"
      },
      "source": [
        "scores = model_x.predict_proba(x_test)[:,1]\n",
        "c_index_x_test = cindex(y_test.values,scores)\n",
        "print(f\"c_index score for test set {c_index_x_test:.4f}\")"
      ],
      "execution_count": null,
      "outputs": [
        {
          "output_type": "stream",
          "text": [
            "c_index score for test set 0.8190\n"
          ],
          "name": "stdout"
        }
      ]
    },
    {
      "cell_type": "code",
      "metadata": {
        "colab": {
          "base_uri": "https://localhost:8080/",
          "height": 81
        },
        "id": "W3-Oz6yYctIs",
        "outputId": "3775c4bc-379a-46cf-9380-9a61eea74c92"
      },
      "source": [
        "coeffs = pd.DataFrame(data = model_x.coef_,columns=x_train.columns)\n",
        "coeffs.head()"
      ],
      "execution_count": null,
      "outputs": [
        {
          "output_type": "execute_result",
          "data": {
            "text/html": [
              "<div>\n",
              "<style scoped>\n",
              "    .dataframe tbody tr th:only-of-type {\n",
              "        vertical-align: middle;\n",
              "    }\n",
              "\n",
              "    .dataframe tbody tr th {\n",
              "        vertical-align: top;\n",
              "    }\n",
              "\n",
              "    .dataframe thead th {\n",
              "        text-align: right;\n",
              "    }\n",
              "</style>\n",
              "<table border=\"1\" class=\"dataframe\">\n",
              "  <thead>\n",
              "    <tr style=\"text-align: right;\">\n",
              "      <th></th>\n",
              "      <th>Age</th>\n",
              "      <th>Systolic_BP</th>\n",
              "      <th>Diastolic_BP</th>\n",
              "      <th>Cholesterol</th>\n",
              "    </tr>\n",
              "  </thead>\n",
              "  <tbody>\n",
              "    <tr>\n",
              "      <th>0</th>\n",
              "      <td>1.107887</td>\n",
              "      <td>0.710707</td>\n",
              "      <td>0.070599</td>\n",
              "      <td>0.573457</td>\n",
              "    </tr>\n",
              "  </tbody>\n",
              "</table>\n",
              "</div>"
            ],
            "text/plain": [
              "        Age  Systolic_BP  Diastolic_BP  Cholesterol\n",
              "0  1.107887     0.710707      0.070599     0.573457"
            ]
          },
          "metadata": {
            "tags": []
          },
          "execution_count": 28
        }
      ]
    },
    {
      "cell_type": "code",
      "metadata": {
        "colab": {
          "base_uri": "https://localhost:8080/",
          "height": 333
        },
        "id": "FBFdIBrkctK8",
        "outputId": "070dbb29-37b8-4a9f-e0d4-2be8540530fc"
      },
      "source": [
        "coeffs.T.plot.bar(legend=None)"
      ],
      "execution_count": null,
      "outputs": [
        {
          "output_type": "execute_result",
          "data": {
            "text/plain": [
              "<matplotlib.axes._subplots.AxesSubplot at 0x7fa8e941bcd0>"
            ]
          },
          "metadata": {
            "tags": []
          },
          "execution_count": 29
        },
        {
          "output_type": "display_data",
          "data": {
            "image/png": "[encoded data removed]",
            "text/plain": [
              "<Figure size 432x288 with 1 Axes>"
            ]
          },
          "metadata": {
            "tags": [],
            "needs_background": "light"
          }
        }
      ]
    },
    {
      "cell_type": "code",
      "metadata": {
        "id": "M25K38JkctOQ"
      },
      "source": [
        "def add_interaction(x):\n",
        "  features = x.columns\n",
        "  m = len(features)\n",
        "  x_int = x.copy(deep=True)\n",
        "  for i in range(m):\n",
        "    features_i_name = features[i]\n",
        "    features_i_data = x.loc[:,features_i_name]\n",
        "    for j in range(i+1,m):\n",
        "      features_j_name = features[j]\n",
        "      features_j_data = x.loc[:,features_j_name]\n",
        "      features_i_j_name = f\"{features_i_name}_x_{features_j_name}\"\n",
        "      x_int[features_i_j_name] = features_i_data * features_j_data\n",
        "  return x_int\n"
      ],
      "execution_count": null,
      "outputs": []
    },
    {
      "cell_type": "code",
      "metadata": {
        "colab": {
          "base_uri": "https://localhost:8080/"
        },
        "id": "04xd2wmSctRC",
        "outputId": "4c96697a-57e3-450e-e962-3a780944f25e"
      },
      "source": [
        "print(\"Original Data\")\n",
        "print(x_train.loc[:, ['Age', 'Systolic_BP']].head())\n",
        "print(\"Data w/ Interactions\")\n",
        "print(add_interaction(x_train.loc[:, ['Age', 'Systolic_BP']].head()))"
      ],
      "execution_count": null,
      "outputs": [
        {
          "output_type": "stream",
          "text": [
            "Original Data\n",
            "           Age  Systolic_BP\n",
            "5305 -0.039921    -1.319661\n",
            "1188  0.985100    -2.049383\n",
            "4852 -0.291294    -0.263877\n",
            "5824 -1.512469    -0.850850\n",
            "2441 -0.676651     0.368215\n",
            "Data w/ Interactions\n",
            "           Age  Systolic_BP  Age_x_Systolic_BP\n",
            "5305 -0.039921    -1.319661           0.052682\n",
            "1188  0.985100    -2.049383          -2.018847\n",
            "4852 -0.291294    -0.263877           0.076866\n",
            "5824 -1.512469    -0.850850           1.286884\n",
            "2441 -0.676651     0.368215          -0.249153\n"
          ],
          "name": "stdout"
        }
      ]
    },
    {
      "cell_type": "code",
      "metadata": {
        "id": "33svwfQ0ctTx"
      },
      "source": [
        "X_train_int = add_interaction(x_train)\n",
        "X_test_int = add_interaction(x_test)"
      ],
      "execution_count": null,
      "outputs": []
    },
    {
      "cell_type": "code",
      "metadata": {
        "id": "8hBzpYW8ctY0"
      },
      "source": [
        "model_X_int = lr_model(X_train_int, y_train)"
      ],
      "execution_count": null,
      "outputs": []
    },
    {
      "cell_type": "code",
      "metadata": {
        "colab": {
          "base_uri": "https://localhost:8080/"
        },
        "id": "rke04e01ctbf",
        "outputId": "cb90dcd9-ac93-4548-cfa8-c920a18ae0a2"
      },
      "source": [
        "scores_X = model_x.predict_proba(x_test)[:, 1]\n",
        "c_index_X_int_test = cindex(y_test.values, scores_X)\n",
        "\n",
        "scores_X_int = model_X_int.predict_proba(X_test_int)[:, 1]\n",
        "c_index_X_int_test = cindex(y_test.values, scores_X_int)\n",
        "\n",
        "print(f\"c-index on test set without interactions is {c_index_x_test:.4f}\")\n",
        "print(f\"c-index on test set with interactions is {c_index_X_int_test:.4f}\")"
      ],
      "execution_count": null,
      "outputs": [
        {
          "output_type": "stream",
          "text": [
            "c-index on test set without interactions is 0.8190\n",
            "c-index on test set with interactions is 0.8289\n"
          ],
          "name": "stdout"
        }
      ]
    },
    {
      "cell_type": "code",
      "metadata": {
        "colab": {
          "base_uri": "https://localhost:8080/",
          "height": 389
        },
        "id": "QZPtoN_mcteB",
        "outputId": "7851bec0-da66-4d57-a621-574b2c6d2dbf"
      },
      "source": [
        "int_coeffs = pd.DataFrame(data = model_X_int.coef_, columns = X_train_int.columns)\n",
        "int_coeffs.T.plot.bar();"
      ],
      "execution_count": null,
      "outputs": [
        {
          "output_type": "display_data",
          "data": {
            "image/png": "[encoded data removed]",
            "text/plain": [
              "<Figure size 432x288 with 1 Axes>"
            ]
          },
          "metadata": {
            "tags": [],
            "needs_background": "light"
          }
        }
      ]
    },
    {
      "cell_type": "code",
      "metadata": {
        "colab": {
          "base_uri": "https://localhost:8080/"
        },
        "id": "ICQa7CRnctgY",
        "outputId": "920c0e26-047f-4171-c889-c8ba2c064c53"
      },
      "source": [
        "index = 343\n",
        "case = X_train_int.iloc[index, :]\n",
        "print(case)"
      ],
      "execution_count": null,
      "outputs": [
        {
          "output_type": "stream",
          "text": [
            "Age                           0.072434\n",
            "Systolic_BP                  -0.121896\n",
            "Diastolic_BP                 -0.492917\n",
            "Cholesterol                  -0.638298\n",
            "Age_x_Systolic_BP            -0.008829\n",
            "Age_x_Diastolic_BP           -0.035704\n",
            "Age_x_Cholesterol            -0.046235\n",
            "Systolic_BP_x_Diastolic_BP    0.060085\n",
            "Systolic_BP_x_Cholesterol     0.077806\n",
            "Diastolic_BP_x_Cholesterol    0.314628\n",
            "Name: 1466, dtype: float64\n"
          ],
          "name": "stdout"
        }
      ]
    },
    {
      "cell_type": "code",
      "metadata": {
        "colab": {
          "base_uri": "https://localhost:8080/"
        },
        "id": "XCpSeCg-ctkA",
        "outputId": "d6d1333a-82af-48ab-f89c-bef4a1cc1722"
      },
      "source": [
        "new_case = case.copy(deep=True)\n",
        "new_case.loc[\"Age_x_Cholesterol\"] = 0\n",
        "new_case"
      ],
      "execution_count": null,
      "outputs": [
        {
          "output_type": "execute_result",
          "data": {
            "text/plain": [
              "Age                           0.072434\n",
              "Systolic_BP                  -0.121896\n",
              "Diastolic_BP                 -0.492917\n",
              "Cholesterol                  -0.638298\n",
              "Age_x_Systolic_BP            -0.008829\n",
              "Age_x_Diastolic_BP           -0.035704\n",
              "Age_x_Cholesterol             0.000000\n",
              "Systolic_BP_x_Diastolic_BP    0.060085\n",
              "Systolic_BP_x_Cholesterol     0.077806\n",
              "Diastolic_BP_x_Cholesterol    0.314628\n",
              "Name: 1466, dtype: float64"
            ]
          },
          "metadata": {
            "tags": []
          },
          "execution_count": 43
        }
      ]
    },
    {
      "cell_type": "code",
      "metadata": {
        "colab": {
          "base_uri": "https://localhost:8080/"
        },
        "id": "ec4Luyyqctm8",
        "outputId": "a7d88e23-0f5c-4ea4-c9bf-aa0f9790ad2b"
      },
      "source": [
        "print(f\"Output with interaction: \\t{model_X_int.predict_proba([case.values])[:, 1][0]:.4f}\")\n",
        "print(f\"Output without interaction: \\t{model_X_int.predict_proba([new_case.values])[:, 1][0]:.4f}\")"
      ],
      "execution_count": null,
      "outputs": [
        {
          "output_type": "stream",
          "text": [
            "Output with interaction: \t0.4003\n",
            "Output without interaction: \t0.3958\n"
          ],
          "name": "stdout"
        }
      ]
    }
  ]
}