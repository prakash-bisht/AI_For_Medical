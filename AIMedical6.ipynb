{
  "nbformat": 4,
  "nbformat_minor": 0,
  "metadata": {
    "colab": {
      "name": "AIMedical6.ipynb",
      "provenance": [],
      "collapsed_sections": []
    },
    "kernelspec": {
      "name": "python3",
      "display_name": "Python 3"
    },
    "language_info": {
      "name": "python"
    }
  },
  "cells": [
    {
      "cell_type": "code",
      "metadata": {
        "id": "-SOa9chnQ6mq"
      },
      "source": [
        "import keras \n",
        "from keras import backend as k \n",
        "from keras.engine import Input, Model \n",
        "from keras.layers import Conv3D, MaxPooling3D, UpSampling3D, Activation, BatchNormalization, PReLU, Conv3DTranspose\n",
        "from keras.optimizers import Adam\n",
        "from keras.layers.merge import concatenate\n",
        "k.set_image_data_format(\"channels_first\")"
      ],
      "execution_count": null,
      "outputs": []
    },
    {
      "cell_type": "code",
      "metadata": {
        "id": "0Mv_i-aiRKW8"
      },
      "source": [
        "# deconvolution3d changed to conv3dtranspose \n",
        "# the depth of u-net = the number of down convolution \n",
        "# the shape of input layer is (num_channels,height,width,length)\n",
        "# ? is batch_size (batch_size, num_channels, height, width, length)\n",
        "# for this model we gonna use 2 depth"
      ],
      "execution_count": null,
      "outputs": []
    },
    {
      "cell_type": "code",
      "metadata": {
        "colab": {
          "base_uri": "https://localhost:8080/"
        },
        "id": "qXK92KqbRKh_",
        "outputId": "0674fe89-53f6-49e8-a023-80a479f03be0"
      },
      "source": [
        "input_layer = Input(shape=(4,160,160,16))\n",
        "input_layer"
      ],
      "execution_count": null,
      "outputs": [
        {
          "output_type": "execute_result",
          "data": {
            "text/plain": [
              "<KerasTensor: shape=(None, 4, 160, 160, 16) dtype=float32 (created by layer 'input_1')>"
            ]
          },
          "metadata": {
            "tags": []
          },
          "execution_count": 4
        }
      ]
    },
    {
      "cell_type": "code",
      "metadata": {
        "id": "hjsl4AlRRKkq"
      },
      "source": [
        "#downward path(contracting)\n",
        "# the numbers of filters for depth 0 \n",
        "# fillters(i) = 32 * 2 to the power i\n",
        "# where i is the current depth\n",
        "#so at depth i = 0 filters = 32\n",
        "# in downward path The (height, width, length) of the input gets smaller as you move down this path, and the number of channels increases"
      ],
      "execution_count": null,
      "outputs": []
    },
    {
      "cell_type": "code",
      "metadata": {
        "colab": {
          "base_uri": "https://localhost:8080/"
        },
        "id": "3XKNEAlVRKnO",
        "outputId": "4754602a-485b-4c92-e991-a35ac0d3b1bb"
      },
      "source": [
        "down_depth_0_layer_0 = Conv3D(filters=32,\n",
        "                              kernel_size=(3,3,3),\n",
        "                              padding='same',\n",
        "                              strides=(1,1,1))(input_layer)\n",
        "down_depth_0_layer_0"
      ],
      "execution_count": null,
      "outputs": [
        {
          "output_type": "execute_result",
          "data": {
            "text/plain": [
              "<KerasTensor: shape=(None, 32, 160, 160, 16) dtype=float32 (created by layer 'conv3d')>"
            ]
          },
          "metadata": {
            "tags": []
          },
          "execution_count": 5
        }
      ]
    },
    {
      "cell_type": "code",
      "metadata": {
        "colab": {
          "base_uri": "https://localhost:8080/"
        },
        "id": "oXKLVpPGRKqz",
        "outputId": "9541e61c-967a-4ddc-c66f-2712a37649a4"
      },
      "source": [
        "down_depth_0_layer_0 = Activation(\"relu\")(down_depth_0_layer_0)\n",
        "down_depth_0_layer_0"
      ],
      "execution_count": null,
      "outputs": [
        {
          "output_type": "execute_result",
          "data": {
            "text/plain": [
              "<KerasTensor: shape=(None, 32, 160, 160, 16) dtype=float32 (created by layer 'activation')>"
            ]
          },
          "metadata": {
            "tags": []
          },
          "execution_count": 6
        }
      ]
    },
    {
      "cell_type": "code",
      "metadata": {
        "id": "whjK9PrTRKtB"
      },
      "source": [
        "# depth 0 layer 1 \n",
        "# formula for calculating filters \n",
        "# filters(i) = 32 * 2 to the power 0 * 2  "
      ],
      "execution_count": null,
      "outputs": []
    },
    {
      "cell_type": "code",
      "metadata": {
        "colab": {
          "base_uri": "https://localhost:8080/"
        },
        "id": "HhCG8ZIQRKvz",
        "outputId": "45dbff75-16ca-4066-da7e-d348f2a8a51d"
      },
      "source": [
        "down_depth_0_layer_1 = Conv3D(filters=64,\n",
        "                              kernel_size=(3,3,3),\n",
        "                              padding='same',\n",
        "                              strides=(1,1,1))(down_depth_0_layer_0)\n",
        "down_depth_0_layer_1"
      ],
      "execution_count": null,
      "outputs": [
        {
          "output_type": "execute_result",
          "data": {
            "text/plain": [
              "<KerasTensor: shape=(None, 64, 160, 160, 16) dtype=float32 (created by layer 'conv3d_2')>"
            ]
          },
          "metadata": {
            "tags": []
          },
          "execution_count": 10
        }
      ]
    },
    {
      "cell_type": "code",
      "metadata": {
        "colab": {
          "base_uri": "https://localhost:8080/"
        },
        "id": "lqNmZyVkRKzD",
        "outputId": "d78a82d9-3e1b-4cf3-c4b7-58d695d8c162"
      },
      "source": [
        "down_depth_0_layer_1 = Activation(\"relu\")(down_depth_0_layer_1)\n",
        "down_depth_0_layer_1"
      ],
      "execution_count": null,
      "outputs": [
        {
          "output_type": "execute_result",
          "data": {
            "text/plain": [
              "<KerasTensor: shape=(None, 64, 160, 160, 16) dtype=float32 (created by layer 'activation_2')>"
            ]
          },
          "metadata": {
            "tags": []
          },
          "execution_count": 11
        }
      ]
    },
    {
      "cell_type": "code",
      "metadata": {
        "colab": {
          "base_uri": "https://localhost:8080/"
        },
        "id": "n5Q-Ex3GRLJi",
        "outputId": "213b8821-a3d7-4c82-f668-4623ac31017c"
      },
      "source": [
        "down_depth_0_layer_pool = MaxPooling3D(pool_size=(2,2,2))(down_depth_0_layer_1)\n",
        "down_depth_0_layer_pool "
      ],
      "execution_count": null,
      "outputs": [
        {
          "output_type": "execute_result",
          "data": {
            "text/plain": [
              "<KerasTensor: shape=(None, 64, 80, 80, 8) dtype=float32 (created by layer 'max_pooling3d_1')>"
            ]
          },
          "metadata": {
            "tags": []
          },
          "execution_count": 12
        }
      ]
    },
    {
      "cell_type": "code",
      "metadata": {
        "id": "MrXkvRvseHPb"
      },
      "source": [
        "# depth 1 layer 0 \n",
        "# the number of filters 32 * 2 to the power 1 = 64"
      ],
      "execution_count": null,
      "outputs": []
    },
    {
      "cell_type": "code",
      "metadata": {
        "colab": {
          "base_uri": "https://localhost:8080/"
        },
        "id": "mNgQP2AHeHS2",
        "outputId": "aee684cd-7149-4da6-d930-59758c7e70f3"
      },
      "source": [
        "down_depth_1_layer_0 = Conv3D(filters=64,\n",
        "                              kernel_size=(3,3,3),\n",
        "                              padding='same',\n",
        "                              strides=(1,1,1))(down_depth_0_layer_pool)\n",
        "down_depth_1_layer_0"
      ],
      "execution_count": null,
      "outputs": [
        {
          "output_type": "execute_result",
          "data": {
            "text/plain": [
              "<KerasTensor: shape=(None, 64, 80, 80, 8) dtype=float32 (created by layer 'conv3d_4')>"
            ]
          },
          "metadata": {
            "tags": []
          },
          "execution_count": 14
        }
      ]
    },
    {
      "cell_type": "code",
      "metadata": {
        "colab": {
          "base_uri": "https://localhost:8080/"
        },
        "id": "OlVe6HHyeHXC",
        "outputId": "74cb5a4a-d21c-4a30-cb5d-9f1e092e5c84"
      },
      "source": [
        "down_depth_1_layer_0 = Activation('relu')(down_depth_1_layer_0)\n",
        "down_depth_1_layer_0"
      ],
      "execution_count": null,
      "outputs": [
        {
          "output_type": "execute_result",
          "data": {
            "text/plain": [
              "<KerasTensor: shape=(None, 64, 80, 80, 8) dtype=float32 (created by layer 'activation_4')>"
            ]
          },
          "metadata": {
            "tags": []
          },
          "execution_count": 16
        }
      ]
    },
    {
      "cell_type": "code",
      "metadata": {
        "id": "7DNElAVGeHax"
      },
      "source": [
        "#depth 1 layer 1 \n",
        "# filters = 32 * 2 to the power 1 * 2 = 128"
      ],
      "execution_count": null,
      "outputs": []
    },
    {
      "cell_type": "code",
      "metadata": {
        "colab": {
          "base_uri": "https://localhost:8080/"
        },
        "id": "P6jM6ou_eHdL",
        "outputId": "1a54e3ae-5778-4f33-9db8-f2ebd6c2176f"
      },
      "source": [
        "down_depth_1_layer_1 = Conv3D(filters=128, \n",
        "                kernel_size=(3,3,3),\n",
        "                padding='same',\n",
        "                strides=(1,1,1)\n",
        "               )(down_depth_1_layer_0)\n",
        "down_depth_1_layer_1 = Activation('relu')(down_depth_1_layer_1)\n",
        "down_depth_1_layer_1"
      ],
      "execution_count": null,
      "outputs": [
        {
          "output_type": "execute_result",
          "data": {
            "text/plain": [
              "<KerasTensor: shape=(None, 128, 80, 80, 8) dtype=float32 (created by layer 'activation_5')>"
            ]
          },
          "metadata": {
            "tags": []
          },
          "execution_count": 17
        }
      ]
    },
    {
      "cell_type": "code",
      "metadata": {
        "id": "cQhQrPTxeHgJ"
      },
      "source": [
        "# expanding upward path\n",
        "# depth 0 layer 0"
      ],
      "execution_count": null,
      "outputs": []
    },
    {
      "cell_type": "code",
      "metadata": {
        "colab": {
          "base_uri": "https://localhost:8080/"
        },
        "id": "fo5cv19QgYAA",
        "outputId": "45f1bbbd-e6d7-4e60-af88-1df6cb49b35e"
      },
      "source": [
        "up_depth_0_layer_0 = UpSampling3D(size=(2,2,2))(down_depth_1_layer_1)\n",
        "up_depth_0_layer_0"
      ],
      "execution_count": null,
      "outputs": [
        {
          "output_type": "execute_result",
          "data": {
            "text/plain": [
              "<KerasTensor: shape=(None, 128, 160, 160, 16) dtype=float32 (created by layer 'up_sampling3d')>"
            ]
          },
          "metadata": {
            "tags": []
          },
          "execution_count": 18
        }
      ]
    },
    {
      "cell_type": "code",
      "metadata": {
        "colab": {
          "base_uri": "https://localhost:8080/"
        },
        "id": "1mxTj6YggYCf",
        "outputId": "ef840e2b-6614-44c3-99e4-59c8aa125cfb"
      },
      "source": [
        "print(up_depth_0_layer_0)\n",
        "print()\n",
        "print(down_depth_0_layer_1)"
      ],
      "execution_count": null,
      "outputs": [
        {
          "output_type": "stream",
          "text": [
            "KerasTensor(type_spec=TensorSpec(shape=(None, 128, 160, 160, 16), dtype=tf.float32, name=None), name='up_sampling3d/concat_2:0', description=\"created by layer 'up_sampling3d'\")\n",
            "\n",
            "KerasTensor(type_spec=TensorSpec(shape=(None, 64, 160, 160, 16), dtype=tf.float32, name=None), name='activation_2/Relu:0', description=\"created by layer 'activation_2'\")\n"
          ],
          "name": "stdout"
        }
      ]
    },
    {
      "cell_type": "code",
      "metadata": {
        "colab": {
          "base_uri": "https://localhost:8080/"
        },
        "id": "StUHTKHRgYIU",
        "outputId": "c786ad9a-48b9-4b12-fcce-fb7eda44872d"
      },
      "source": [
        "up_depth_1_concat = concatenate([up_depth_0_layer_0,down_depth_0_layer_1],axis=1)\n",
        "up_depth_1_concat"
      ],
      "execution_count": null,
      "outputs": [
        {
          "output_type": "execute_result",
          "data": {
            "text/plain": [
              "<KerasTensor: shape=(None, 192, 160, 160, 16) dtype=float32 (created by layer 'concatenate')>"
            ]
          },
          "metadata": {
            "tags": []
          },
          "execution_count": 21
        }
      ]
    },
    {
      "cell_type": "code",
      "metadata": {
        "colab": {
          "base_uri": "https://localhost:8080/"
        },
        "id": "6ryTt9hlgYKv",
        "outputId": "2fa92652-2fab-4efd-9faa-325743a88184"
      },
      "source": [
        "up_depth_1_layer_1 = Conv3D(filters=64, \n",
        "                            kernel_size=(3,3,3),\n",
        "                            padding='same',\n",
        "                            strides=(1,1,1)\n",
        "                           )(up_depth_1_concat)\n",
        "up_depth_1_layer_1 = Activation('relu')(up_depth_1_layer_1)\n",
        "up_depth_1_layer_1"
      ],
      "execution_count": null,
      "outputs": [
        {
          "output_type": "execute_result",
          "data": {
            "text/plain": [
              "<KerasTensor: shape=(None, 64, 160, 160, 16) dtype=float32 (created by layer 'activation_6')>"
            ]
          },
          "metadata": {
            "tags": []
          },
          "execution_count": 22
        }
      ]
    },
    {
      "cell_type": "code",
      "metadata": {
        "colab": {
          "base_uri": "https://localhost:8080/"
        },
        "id": "cdhyW4preHjV",
        "outputId": "ecbc0d61-f0cb-4414-ffc6-f0ddcfcc6850"
      },
      "source": [
        "up_depth_1_layer_2 = Conv3D(filters=64, \n",
        "                            kernel_size=(3,3,3),\n",
        "                            padding='same',\n",
        "                            strides=(1,1,1)\n",
        "                           )(up_depth_1_layer_1)\n",
        "up_depth_1_layer_2 = Activation('relu')(up_depth_1_layer_2)\n",
        "up_depth_1_layer_2"
      ],
      "execution_count": null,
      "outputs": [
        {
          "output_type": "execute_result",
          "data": {
            "text/plain": [
              "<KerasTensor: shape=(None, 64, 160, 160, 16) dtype=float32 (created by layer 'activation_7')>"
            ]
          },
          "metadata": {
            "tags": []
          },
          "execution_count": 23
        }
      ]
    },
    {
      "cell_type": "code",
      "metadata": {
        "id": "cogKiJq7jKh0"
      },
      "source": [
        "final_conv = Conv3D(filters=3,kernel_size=(1,1,1),padding=\"valid\",strides=(1,1,1))(up_depth_1_layer_2)"
      ],
      "execution_count": null,
      "outputs": []
    },
    {
      "cell_type": "code",
      "metadata": {
        "colab": {
          "base_uri": "https://localhost:8080/"
        },
        "id": "YO3TW98DjJyS",
        "outputId": "c8ec0e59-1ba2-40bd-a07a-22fddd5f244c"
      },
      "source": [
        "final_activation = Activation('sigmoid')(final_conv)\n",
        "final_activation"
      ],
      "execution_count": null,
      "outputs": [
        {
          "output_type": "execute_result",
          "data": {
            "text/plain": [
              "<KerasTensor: shape=(None, 3, 160, 160, 16) dtype=float32 (created by layer 'activation_9')>"
            ]
          },
          "metadata": {
            "tags": []
          },
          "execution_count": 28
        }
      ]
    },
    {
      "cell_type": "code",
      "metadata": {
        "id": "2WcG6FZRjJ0z"
      },
      "source": [
        "model = Model(inputs=input_layer,outputs=final_activation)\n",
        "model.compile(optimizer=Adam(lr=0.00001),\n",
        "              loss=\"categorical_crossentropy\",metrics=['categorical_accuracy'])"
      ],
      "execution_count": null,
      "outputs": []
    },
    {
      "cell_type": "code",
      "metadata": {
        "colab": {
          "base_uri": "https://localhost:8080/"
        },
        "id": "zw6jZVZfjJ4C",
        "outputId": "72be98cc-bb80-44ba-c92e-f78f079860e3"
      },
      "source": [
        "model.summary()"
      ],
      "execution_count": null,
      "outputs": [
        {
          "output_type": "stream",
          "text": [
            "Model: \"model\"\n",
            "__________________________________________________________________________________________________\n",
            "Layer (type)                    Output Shape         Param #     Connected to                     \n",
            "==================================================================================================\n",
            "input_1 (InputLayer)            [(None, 4, 160, 160, 0                                            \n",
            "__________________________________________________________________________________________________\n",
            "conv3d (Conv3D)                 (None, 32, 160, 160, 3488        input_1[0][0]                    \n",
            "__________________________________________________________________________________________________\n",
            "activation (Activation)         (None, 32, 160, 160, 0           conv3d[0][0]                     \n",
            "__________________________________________________________________________________________________\n",
            "conv3d_2 (Conv3D)               (None, 64, 160, 160, 55360       activation[0][0]                 \n",
            "__________________________________________________________________________________________________\n",
            "activation_2 (Activation)       (None, 64, 160, 160, 0           conv3d_2[0][0]                   \n",
            "__________________________________________________________________________________________________\n",
            "max_pooling3d_1 (MaxPooling3D)  (None, 64, 80, 80, 8 0           activation_2[0][0]               \n",
            "__________________________________________________________________________________________________\n",
            "conv3d_4 (Conv3D)               (None, 64, 80, 80, 8 110656      max_pooling3d_1[0][0]            \n",
            "__________________________________________________________________________________________________\n",
            "activation_4 (Activation)       (None, 64, 80, 80, 8 0           conv3d_4[0][0]                   \n",
            "__________________________________________________________________________________________________\n",
            "conv3d_5 (Conv3D)               (None, 128, 80, 80,  221312      activation_4[0][0]               \n",
            "__________________________________________________________________________________________________\n",
            "activation_5 (Activation)       (None, 128, 80, 80,  0           conv3d_5[0][0]                   \n",
            "__________________________________________________________________________________________________\n",
            "up_sampling3d (UpSampling3D)    (None, 128, 160, 160 0           activation_5[0][0]               \n",
            "__________________________________________________________________________________________________\n",
            "concatenate (Concatenate)       (None, 192, 160, 160 0           up_sampling3d[0][0]              \n",
            "                                                                 activation_2[0][0]               \n",
            "__________________________________________________________________________________________________\n",
            "conv3d_6 (Conv3D)               (None, 64, 160, 160, 331840      concatenate[0][0]                \n",
            "__________________________________________________________________________________________________\n",
            "activation_6 (Activation)       (None, 64, 160, 160, 0           conv3d_6[0][0]                   \n",
            "__________________________________________________________________________________________________\n",
            "conv3d_7 (Conv3D)               (None, 64, 160, 160, 110656      activation_6[0][0]               \n",
            "__________________________________________________________________________________________________\n",
            "activation_7 (Activation)       (None, 64, 160, 160, 0           conv3d_7[0][0]                   \n",
            "__________________________________________________________________________________________________\n",
            "conv3d_9 (Conv3D)               (None, 3, 160, 160,  195         activation_7[0][0]               \n",
            "__________________________________________________________________________________________________\n",
            "activation_9 (Activation)       (None, 3, 160, 160,  0           conv3d_9[0][0]                   \n",
            "==================================================================================================\n",
            "Total params: 833,507\n",
            "Trainable params: 833,507\n",
            "Non-trainable params: 0\n",
            "__________________________________________________________________________________________________\n"
          ],
          "name": "stdout"
        }
      ]
    }
  ]
}