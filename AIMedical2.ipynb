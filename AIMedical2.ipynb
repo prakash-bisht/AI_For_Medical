{
  "nbformat": 4,
  "nbformat_minor": 0,
  "metadata": {
    "colab": {
      "name": "AIMedical2.ipynb",
      "provenance": [],
      "collapsed_sections": []
    },
    "kernelspec": {
      "name": "python3",
      "display_name": "Python 3"
    },
    "language_info": {
      "name": "python"
    }
  },
  "cells": [
    {
      "cell_type": "code",
      "metadata": {
        "id": "wefADmAdvdf0"
      },
      "source": [
        "import numpy as np \n",
        "import matplotlib.pyplot as plt \n",
        "import pandas as pd\n",
        "import seaborn as sns "
      ],
      "execution_count": null,
      "outputs": []
    },
    {
      "cell_type": "code",
      "metadata": {
        "id": "UpE6fPninO46"
      },
      "source": [
        "https://github.com/Noahbisht0/chestXray-dataset.git"
      ],
      "execution_count": null,
      "outputs": []
    },
    {
      "cell_type": "code",
      "metadata": {
        "id": "I89SxPievhEw"
      },
      "source": [
        "train_df = pd.read_csv(\"nih/train-small.csv\")"
      ],
      "execution_count": null,
      "outputs": []
    },
    {
      "cell_type": "code",
      "metadata": {
        "id": "PLbQ2gxKvhIM",
        "colab": {
          "base_uri": "https://localhost:8080/",
          "height": 226
        },
        "outputId": "d857226b-2f13-405d-bc61-14818f8652d6"
      },
      "source": [
        "train_df.head()"
      ],
      "execution_count": null,
      "outputs": [
        {
          "output_type": "execute_result",
          "data": {
            "text/html": [
              "<div>\n",
              "<style scoped>\n",
              "    .dataframe tbody tr th:only-of-type {\n",
              "        vertical-align: middle;\n",
              "    }\n",
              "\n",
              "    .dataframe tbody tr th {\n",
              "        vertical-align: top;\n",
              "    }\n",
              "\n",
              "    .dataframe thead th {\n",
              "        text-align: right;\n",
              "    }\n",
              "</style>\n",
              "<table border=\"1\" class=\"dataframe\">\n",
              "  <thead>\n",
              "    <tr style=\"text-align: right;\">\n",
              "      <th></th>\n",
              "      <th>Image</th>\n",
              "      <th>Atelectasis</th>\n",
              "      <th>Cardiomegaly</th>\n",
              "      <th>Consolidation</th>\n",
              "      <th>Edema</th>\n",
              "      <th>Effusion</th>\n",
              "      <th>Emphysema</th>\n",
              "      <th>Fibrosis</th>\n",
              "      <th>Hernia</th>\n",
              "      <th>Infiltration</th>\n",
              "      <th>Mass</th>\n",
              "      <th>Nodule</th>\n",
              "      <th>PatientId</th>\n",
              "      <th>Pleural_Thickening</th>\n",
              "      <th>Pneumonia</th>\n",
              "      <th>Pneumothorax</th>\n",
              "    </tr>\n",
              "  </thead>\n",
              "  <tbody>\n",
              "    <tr>\n",
              "      <th>0</th>\n",
              "      <td>00008270_015.png</td>\n",
              "      <td>0</td>\n",
              "      <td>0</td>\n",
              "      <td>0</td>\n",
              "      <td>0</td>\n",
              "      <td>0</td>\n",
              "      <td>0</td>\n",
              "      <td>0</td>\n",
              "      <td>0</td>\n",
              "      <td>0</td>\n",
              "      <td>0</td>\n",
              "      <td>0</td>\n",
              "      <td>8270</td>\n",
              "      <td>0</td>\n",
              "      <td>0</td>\n",
              "      <td>0</td>\n",
              "    </tr>\n",
              "    <tr>\n",
              "      <th>1</th>\n",
              "      <td>00029855_001.png</td>\n",
              "      <td>1</td>\n",
              "      <td>0</td>\n",
              "      <td>0</td>\n",
              "      <td>0</td>\n",
              "      <td>1</td>\n",
              "      <td>0</td>\n",
              "      <td>0</td>\n",
              "      <td>0</td>\n",
              "      <td>1</td>\n",
              "      <td>0</td>\n",
              "      <td>0</td>\n",
              "      <td>29855</td>\n",
              "      <td>0</td>\n",
              "      <td>0</td>\n",
              "      <td>0</td>\n",
              "    </tr>\n",
              "    <tr>\n",
              "      <th>2</th>\n",
              "      <td>00001297_000.png</td>\n",
              "      <td>0</td>\n",
              "      <td>0</td>\n",
              "      <td>0</td>\n",
              "      <td>0</td>\n",
              "      <td>0</td>\n",
              "      <td>0</td>\n",
              "      <td>0</td>\n",
              "      <td>0</td>\n",
              "      <td>0</td>\n",
              "      <td>0</td>\n",
              "      <td>0</td>\n",
              "      <td>1297</td>\n",
              "      <td>1</td>\n",
              "      <td>0</td>\n",
              "      <td>0</td>\n",
              "    </tr>\n",
              "    <tr>\n",
              "      <th>3</th>\n",
              "      <td>00012359_002.png</td>\n",
              "      <td>0</td>\n",
              "      <td>0</td>\n",
              "      <td>0</td>\n",
              "      <td>0</td>\n",
              "      <td>0</td>\n",
              "      <td>0</td>\n",
              "      <td>0</td>\n",
              "      <td>0</td>\n",
              "      <td>0</td>\n",
              "      <td>0</td>\n",
              "      <td>0</td>\n",
              "      <td>12359</td>\n",
              "      <td>0</td>\n",
              "      <td>0</td>\n",
              "      <td>0</td>\n",
              "    </tr>\n",
              "    <tr>\n",
              "      <th>4</th>\n",
              "      <td>00017951_001.png</td>\n",
              "      <td>0</td>\n",
              "      <td>0</td>\n",
              "      <td>0</td>\n",
              "      <td>0</td>\n",
              "      <td>0</td>\n",
              "      <td>0</td>\n",
              "      <td>0</td>\n",
              "      <td>0</td>\n",
              "      <td>1</td>\n",
              "      <td>0</td>\n",
              "      <td>0</td>\n",
              "      <td>17951</td>\n",
              "      <td>0</td>\n",
              "      <td>0</td>\n",
              "      <td>0</td>\n",
              "    </tr>\n",
              "  </tbody>\n",
              "</table>\n",
              "</div>"
            ],
            "text/plain": [
              "              Image  Atelectasis  ...  Pneumonia  Pneumothorax\n",
              "0  00008270_015.png            0  ...          0             0\n",
              "1  00029855_001.png            1  ...          0             0\n",
              "2  00001297_000.png            0  ...          0             0\n",
              "3  00012359_002.png            0  ...          0             0\n",
              "4  00017951_001.png            0  ...          0             0\n",
              "\n",
              "[5 rows x 16 columns]"
            ]
          },
          "metadata": {
            "tags": []
          },
          "execution_count": 4
        }
      ]
    },
    {
      "cell_type": "code",
      "metadata": {
        "id": "oYlx9br3vhLt"
      },
      "source": [
        "class_counts = train_df.sum().drop(['Image','PatientId'])"
      ],
      "execution_count": null,
      "outputs": []
    },
    {
      "cell_type": "code",
      "metadata": {
        "id": "K-x9bP1tvhOd",
        "colab": {
          "base_uri": "https://localhost:8080/"
        },
        "outputId": "8859d18d-2cbb-4555-a690-df740e5927a1"
      },
      "source": [
        "class_counts"
      ],
      "execution_count": null,
      "outputs": [
        {
          "output_type": "execute_result",
          "data": {
            "text/plain": [
              "Atelectasis           106\n",
              "Cardiomegaly           20\n",
              "Consolidation          33\n",
              "Edema                  16\n",
              "Effusion              128\n",
              "Emphysema              13\n",
              "Fibrosis               14\n",
              "Hernia                  2\n",
              "Infiltration          175\n",
              "Mass                   45\n",
              "Nodule                 54\n",
              "Pleural_Thickening     21\n",
              "Pneumonia              10\n",
              "Pneumothorax           38\n",
              "dtype: object"
            ]
          },
          "metadata": {
            "tags": []
          },
          "execution_count": 6
        }
      ]
    },
    {
      "cell_type": "code",
      "metadata": {
        "id": "kyXq7cAwvhQr",
        "colab": {
          "base_uri": "https://localhost:8080/",
          "height": 357
        },
        "outputId": "57a60f51-8785-4034-9ff3-93f02ce56b1f"
      },
      "source": [
        "sns.barplot(class_counts.values,class_counts.index,color=\"b\")\n",
        "plt.title(\"Distribution of classes for training dataset\",fontsize=15)\n",
        "plt.xlabel(\"Number of patients\",fontsize=15)\n",
        "plt.ylabel(\"Diseases\",fontsize=15)\n",
        "plt.show()"
      ],
      "execution_count": null,
      "outputs": [
        {
          "output_type": "stream",
          "text": [
            "/usr/local/lib/python3.7/dist-packages/seaborn/_decorators.py:43: FutureWarning: Pass the following variables as keyword args: x, y. From version 0.12, the only valid positional argument will be `data`, and passing other arguments without an explicit keyword will result in an error or misinterpretation.\n",
            "  FutureWarning\n"
          ],
          "name": "stderr"
        },
        {
          "output_type": "display_data",
          "data": {
            "image/png": "[encoded data removed]",
            "text/plain": [
              "<Figure size 432x288 with 1 Axes>"
            ]
          },
          "metadata": {
            "tags": [],
            "needs_background": "light"
          }
        }
      ]
    },
    {
      "cell_type": "code",
      "metadata": {
        "colab": {
          "base_uri": "https://localhost:8080/"
        },
        "id": "X4JwmHUtWifS",
        "outputId": "a911fbcc-9a62-49d0-dc1d-a0106a3d5dd5"
      },
      "source": [
        "class_counts.index"
      ],
      "execution_count": null,
      "outputs": [
        {
          "output_type": "execute_result",
          "data": {
            "text/plain": [
              "Index(['Atelectasis', 'Cardiomegaly', 'Consolidation', 'Edema', 'Effusion',\n",
              "       'Emphysema', 'Fibrosis', 'Hernia', 'Infiltration', 'Mass', 'Nodule',\n",
              "       'Pleural_Thickening', 'Pneumonia', 'Pneumothorax'],\n",
              "      dtype='object')"
            ]
          },
          "metadata": {
            "tags": []
          },
          "execution_count": 8
        }
      ]
    },
    {
      "cell_type": "code",
      "metadata": {
        "colab": {
          "base_uri": "https://localhost:8080/"
        },
        "id": "qPGUtgCYWiiw",
        "outputId": "90624194-c3b4-4953-d7cd-c061c925063b"
      },
      "source": [
        "y_true = np.array([[1],[1],[1],[0]])\n",
        "print(y_true)"
      ],
      "execution_count": null,
      "outputs": [
        {
          "output_type": "stream",
          "text": [
            "[[1]\n",
            " [1]\n",
            " [1]\n",
            " [0]]\n"
          ],
          "name": "stdout"
        }
      ]
    },
    {
      "cell_type": "code",
      "metadata": {
        "colab": {
          "base_uri": "https://localhost:8080/"
        },
        "id": "Y7-viSEgWimB",
        "outputId": "dc277ca2-b34e-41d6-ef6f-5e394897bf32"
      },
      "source": [
        "y_pred_1 = 0.9 * np.ones(y_true.shape)\n",
        "print(y_pred_1)\n",
        "y_pred_2 = 0.1 * np.ones(y_true.shape)\n",
        "print(y_pred_2)"
      ],
      "execution_count": null,
      "outputs": [
        {
          "output_type": "stream",
          "text": [
            "[[0.9]\n",
            " [0.9]\n",
            " [0.9]\n",
            " [0.9]]\n",
            "[[0.1]\n",
            " [0.1]\n",
            " [0.1]\n",
            " [0.1]]\n"
          ],
          "name": "stdout"
        }
      ]
    },
    {
      "cell_type": "code",
      "metadata": {
        "colab": {
          "base_uri": "https://localhost:8080/"
        },
        "id": "_v6LghbUWipL",
        "outputId": "e33138b9-8918-4787-aaad-86e594a9f360"
      },
      "source": [
        "loss_reg_1 = -1 * np.sum(y_true * np.log(y_pred_1)) + -1 * np.sum((1 - y_true) * np.log(1 - y_pred_1))\n",
        "print(f\"loss for first model: {loss_reg_1:.4f}\")"
      ],
      "execution_count": null,
      "outputs": [
        {
          "output_type": "stream",
          "text": [
            "loss for first model: 2.6187\n"
          ],
          "name": "stdout"
        }
      ]
    },
    {
      "cell_type": "code",
      "metadata": {
        "colab": {
          "base_uri": "https://localhost:8080/"
        },
        "id": "Fo9p95AyWisM",
        "outputId": "4685b8d2-240f-42af-cf2c-56ae00cf2c80"
      },
      "source": [
        "loss_reg_2 = -1 * np.sum(y_true * np.log(y_pred_2)) + -1 * np.sum((1 - y_true) * np.log(1 - y_pred_2))\n",
        "print(f\"loss for first model: {loss_reg_2:.4f}\")"
      ],
      "execution_count": null,
      "outputs": [
        {
          "output_type": "stream",
          "text": [
            "loss for first model: 7.0131\n"
          ],
          "name": "stdout"
        }
      ]
    },
    {
      "cell_type": "code",
      "metadata": {
        "id": "998AYT8nWivW"
      },
      "source": [
        "w_p = 1/4\n",
        "w_n = 3/4"
      ],
      "execution_count": null,
      "outputs": []
    },
    {
      "cell_type": "code",
      "metadata": {
        "colab": {
          "base_uri": "https://localhost:8080/"
        },
        "id": "V4wIyLTRWixm",
        "outputId": "93494b4e-5d61-4db9-b4b6-53a05e661584"
      },
      "source": [
        "loss_1_pos = -1 * np.sum(w_p * y_true * np.log(y_pred_1))\n",
        "print(f\"loss_1: {loss_1_pos:.4f}\")\n",
        "loss_1_neg = -1 * np.sum(w_n * (1 - y_true) * np.log(1 - y_pred_1))\n",
        "print(f\"loss_1: {loss_1_neg:.4f}\")"
      ],
      "execution_count": null,
      "outputs": [
        {
          "output_type": "stream",
          "text": [
            "loss_1: 0.0790\n",
            "loss_1: 1.7269\n"
          ],
          "name": "stdout"
        }
      ]
    },
    {
      "cell_type": "code",
      "metadata": {
        "colab": {
          "base_uri": "https://localhost:8080/"
        },
        "id": "iXLMIoeLWi0g",
        "outputId": "7b1f0243-3af1-4423-db34-1bdaa6632e16"
      },
      "source": [
        "loss_1 = loss_1_pos + loss_1_neg\n",
        "print(f\"{loss_1:.4f}\")"
      ],
      "execution_count": null,
      "outputs": [
        {
          "output_type": "stream",
          "text": [
            "1.8060\n"
          ],
          "name": "stdout"
        }
      ]
    },
    {
      "cell_type": "code",
      "metadata": {
        "colab": {
          "base_uri": "https://localhost:8080/"
        },
        "id": "Kf872tvcWi2j",
        "outputId": "8a3da46e-c976-4510-da48-3c13b7fb956c"
      },
      "source": [
        "loss_2_pos = -1 * np.sum(w_p * y_true * np.log(y_pred_2))\n",
        "print(f\"loss_2: {loss_2_pos:.4f}\")\n",
        "loss_2_neg = -1 * np.sum(w_n * (1 - y_true) * np.log(1 - y_pred_2))\n",
        "print(f\"loss_2: {loss_2_neg:.4f}\")"
      ],
      "execution_count": null,
      "outputs": [
        {
          "output_type": "stream",
          "text": [
            "loss_2: 1.7269\n",
            "loss_2: 0.0790\n"
          ],
          "name": "stdout"
        }
      ]
    },
    {
      "cell_type": "code",
      "metadata": {
        "colab": {
          "base_uri": "https://localhost:8080/"
        },
        "id": "gsADro7bWi5z",
        "outputId": "6cd7079d-8e9b-4e11-fe50-b43c35b76924"
      },
      "source": [
        "loss_2 = loss_2_pos + loss_2_neg\n",
        "print(f\"{loss_2:.4f}\")"
      ],
      "execution_count": null,
      "outputs": [
        {
          "output_type": "stream",
          "text": [
            "1.8060\n"
          ],
          "name": "stdout"
        }
      ]
    },
    {
      "cell_type": "code",
      "metadata": {
        "colab": {
          "base_uri": "https://localhost:8080/"
        },
        "id": "NSD45lpAWi7w",
        "outputId": "3e4df0e9-8d17-410a-d885-7756609c24fc"
      },
      "source": [
        "print(f\"When the model always predicts 0.9, the total loss is {loss_1:.4f}\")\n",
        "print(f\"When the model always predicts 0.1, the total loss is {loss_2:.4f}\")"
      ],
      "execution_count": null,
      "outputs": [
        {
          "output_type": "stream",
          "text": [
            "When the model always predicts 0.9, the total loss is 1.8060\n",
            "When the model always predicts 0.1, the total loss is 1.8060\n"
          ],
          "name": "stdout"
        }
      ]
    },
    {
      "cell_type": "code",
      "metadata": {
        "colab": {
          "base_uri": "https://localhost:8080/"
        },
        "id": "7IIXlRgZWi-i",
        "outputId": "bd7375d0-d797-4baa-f036-60ea1de29e8c"
      },
      "source": [
        "y_true = np.array(\n",
        "        [[1,0],\n",
        "         [1,0],\n",
        "         [1,0],\n",
        "         [1,0],\n",
        "         [0,1]\n",
        "        ])\n",
        "y_true"
      ],
      "execution_count": null,
      "outputs": [
        {
          "output_type": "execute_result",
          "data": {
            "text/plain": [
              "array([[1, 0],\n",
              "       [1, 0],\n",
              "       [1, 0],\n",
              "       [1, 0],\n",
              "       [0, 1]])"
            ]
          },
          "metadata": {
            "tags": []
          },
          "execution_count": 29
        }
      ]
    },
    {
      "cell_type": "code",
      "metadata": {
        "colab": {
          "base_uri": "https://localhost:8080/"
        },
        "id": "m4vz8LxIWjAf",
        "outputId": "7ba17878-8f13-4600-ebcc-f4880c9ec73f"
      },
      "source": [
        "print(f\"using axis = 0 {np.sum(y_true,axis=0)}\")\n",
        "print(f\"using axis = 1 {np.sum(y_true,axis=1)}\")"
      ],
      "execution_count": null,
      "outputs": [
        {
          "output_type": "stream",
          "text": [
            "using axis = 0 [4 1]\n",
            "using axis = 1 [1 1 1 1 1]\n"
          ],
          "name": "stdout"
        }
      ]
    },
    {
      "cell_type": "code",
      "metadata": {
        "colab": {
          "base_uri": "https://localhost:8080/"
        },
        "id": "XBZOH4ITWjDH",
        "outputId": "920fd9ef-bf16-4b75-8e7f-e0bccd667cb0"
      },
      "source": [
        "w_p = np.sum(y_true == 0,axis=0) / y_true.shape[0]\n",
        "w_p"
      ],
      "execution_count": null,
      "outputs": [
        {
          "output_type": "execute_result",
          "data": {
            "text/plain": [
              "array([0.2, 0.8])"
            ]
          },
          "metadata": {
            "tags": []
          },
          "execution_count": 32
        }
      ]
    },
    {
      "cell_type": "code",
      "metadata": {
        "colab": {
          "base_uri": "https://localhost:8080/"
        },
        "id": "81rZsW-zWjFH",
        "outputId": "a1e5d80d-bbf9-4126-bdcd-e03805fb2f7f"
      },
      "source": [
        "w_n = np.sum(y_true == 1,axis=0) / y_true.shape[0]\n",
        "w_n"
      ],
      "execution_count": null,
      "outputs": [
        {
          "output_type": "execute_result",
          "data": {
            "text/plain": [
              "array([0.8, 0.2])"
            ]
          },
          "metadata": {
            "tags": []
          },
          "execution_count": 33
        }
      ]
    },
    {
      "cell_type": "code",
      "metadata": {
        "colab": {
          "base_uri": "https://localhost:8080/"
        },
        "id": "GUzu7FktWjGz",
        "outputId": "8b4d0ead-e0e1-422b-80d7-0324cf85cd5e"
      },
      "source": [
        "y_pred = np.ones(y_true.shape)\n",
        "y_pred[:,0] = 0.3 * y_pred[:,0]\n",
        "y_pred[:,1] = 0.7 * y_pred[:,1]\n",
        "y_pred"
      ],
      "execution_count": null,
      "outputs": [
        {
          "output_type": "execute_result",
          "data": {
            "text/plain": [
              "array([[0.3, 0.7],\n",
              "       [0.3, 0.7],\n",
              "       [0.3, 0.7],\n",
              "       [0.3, 0.7],\n",
              "       [0.3, 0.7]])"
            ]
          },
          "metadata": {
            "tags": []
          },
          "execution_count": 34
        }
      ]
    },
    {
      "cell_type": "code",
      "metadata": {
        "colab": {
          "base_uri": "https://localhost:8080/"
        },
        "id": "yBYLinnVWjI1",
        "outputId": "af706a9b-665d-4a7f-a5f7-cbd7f0ec5edb"
      },
      "source": [
        "loss_0_pos = -1 * np.sum(w_p[0] * y_true[:,0] * np.log(y_pred[:,0]))\n",
        "print(f\"loss_0_pos:{loss_0_pos:.4f}\")"
      ],
      "execution_count": null,
      "outputs": [
        {
          "output_type": "stream",
          "text": [
            "loss_0_pos:0.9632\n"
          ],
          "name": "stdout"
        }
      ]
    },
    {
      "cell_type": "code",
      "metadata": {
        "colab": {
          "base_uri": "https://localhost:8080/"
        },
        "id": "bSTF3hXrWjLL",
        "outputId": "a2147470-543a-433f-d856-ffa3a3449655"
      },
      "source": [
        "loss_0_neg = -1 * np.sum(w_n[0] * (1 - y_true[:,0]) * np.log(1 - y_pred[:,0]))\n",
        "print(f\"loss_0_neg:{loss_0_neg:.4f}\")"
      ],
      "execution_count": null,
      "outputs": [
        {
          "output_type": "stream",
          "text": [
            "loss_0_neg:0.2853\n"
          ],
          "name": "stdout"
        }
      ]
    },
    {
      "cell_type": "code",
      "metadata": {
        "colab": {
          "base_uri": "https://localhost:8080/"
        },
        "id": "TifGW40EWjNu",
        "outputId": "be9768ea-2fff-4c90-a859-2ceae84940e4"
      },
      "source": [
        "loss_0 = loss_0_neg + loss_0_pos\n",
        "print(f\"loss_0: {loss_0:.4f}\")"
      ],
      "execution_count": null,
      "outputs": [
        {
          "output_type": "stream",
          "text": [
            "loss_0: 1.2485\n"
          ],
          "name": "stdout"
        }
      ]
    },
    {
      "cell_type": "code",
      "metadata": {
        "colab": {
          "base_uri": "https://localhost:8080/"
        },
        "id": "4vDLPFc1WjQX",
        "outputId": "f1963994-9b7f-4280-df4e-7f32878e78eb"
      },
      "source": [
        "loss_1_pos = -1 * np.sum(w_p[1] * y_true[:,1] * np.log(y_pred[:,1]))\n",
        "print(f\"loss_0_pos:{loss_1_pos:.4f}\")"
      ],
      "execution_count": null,
      "outputs": [
        {
          "output_type": "stream",
          "text": [
            "loss_0_pos:0.2853\n"
          ],
          "name": "stdout"
        }
      ]
    },
    {
      "cell_type": "code",
      "metadata": {
        "colab": {
          "base_uri": "https://localhost:8080/"
        },
        "id": "vz7UM75QWjS8",
        "outputId": "5e0347e3-0e1f-4c19-e6ca-57633e86d8d9"
      },
      "source": [
        "loss_1_neg = -1 * np.sum(w_n[1] * (1-y_true[:,1]) * np.log(1- y_pred[:,1]))\n",
        "print(f\"loss_0_neg:{loss_1_neg:.4f}\")"
      ],
      "execution_count": null,
      "outputs": [
        {
          "output_type": "stream",
          "text": [
            "loss_0_neg:0.9632\n"
          ],
          "name": "stdout"
        }
      ]
    },
    {
      "cell_type": "code",
      "metadata": {
        "colab": {
          "base_uri": "https://localhost:8080/"
        },
        "id": "pOJB725bWjVv",
        "outputId": "0eacb882-9543-4e1d-e795-007d30096961"
      },
      "source": [
        "loss_1 = loss_1_neg + loss_1_pos\n",
        "print(f\"loss_1: {loss_1:.4f}\")"
      ],
      "execution_count": null,
      "outputs": [
        {
          "output_type": "stream",
          "text": [
            "loss_1: 1.2485\n"
          ],
          "name": "stdout"
        }
      ]
    }
  ]
}