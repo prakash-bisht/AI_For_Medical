{
  "nbformat": 4,
  "nbformat_minor": 0,
  "metadata": {
    "colab": {
      "name": "AIMedical11.ipynb",
      "provenance": [],
      "collapsed_sections": []
    },
    "kernelspec": {
      "name": "python3",
      "display_name": "Python 3"
    },
    "language_info": {
      "name": "python"
    }
  },
  "cells": [
    {
      "cell_type": "code",
      "metadata": {
        "id": "i3k6LF6sZ6hE"
      },
      "source": [
        "!pip install lifelines"
      ],
      "execution_count": null,
      "outputs": []
    },
    {
      "cell_type": "code",
      "metadata": {
        "id": "g9pWjlAkZ7U_"
      },
      "source": [
        "import lifelines \n",
        "import numpy as np \n",
        "import pandas as pd \n",
        "import matplotlib.pyplot as plt\n",
        "from util import load_data \n",
        "from lifelines import KaplanMeierFitter as km\n",
        "from lifelines.statistics import logrank_test"
      ],
      "execution_count": null,
      "outputs": []
    },
    {
      "cell_type": "code",
      "metadata": {
        "id": "9u9wi1rRZ7X4"
      },
      "source": [
        "data = load_data()"
      ],
      "execution_count": null,
      "outputs": []
    },
    {
      "cell_type": "code",
      "metadata": {
        "colab": {
          "base_uri": "https://localhost:8080/",
          "height": 224
        },
        "id": "N4wkqRR3Z7bM",
        "outputId": "c1bcbd3f-50d9-4b9e-8c91-38fc18e59414"
      },
      "source": [
        "print(\"data shape: {}\".format(data.shape))\n",
        "data.head()"
      ],
      "execution_count": null,
      "outputs": [
        {
          "output_type": "stream",
          "text": [
            "data shape: (80, 3)\n"
          ],
          "name": "stdout"
        },
        {
          "output_type": "execute_result",
          "data": {
            "text/html": [
              "<div>\n",
              "<style scoped>\n",
              "    .dataframe tbody tr th:only-of-type {\n",
              "        vertical-align: middle;\n",
              "    }\n",
              "\n",
              "    .dataframe tbody tr th {\n",
              "        vertical-align: top;\n",
              "    }\n",
              "\n",
              "    .dataframe thead th {\n",
              "        text-align: right;\n",
              "    }\n",
              "</style>\n",
              "<table border=\"1\" class=\"dataframe\">\n",
              "  <thead>\n",
              "    <tr style=\"text-align: right;\">\n",
              "      <th></th>\n",
              "      <th>Stage_group</th>\n",
              "      <th>Time</th>\n",
              "      <th>Event</th>\n",
              "    </tr>\n",
              "  </thead>\n",
              "  <tbody>\n",
              "    <tr>\n",
              "      <th>0</th>\n",
              "      <td>1</td>\n",
              "      <td>6</td>\n",
              "      <td>1</td>\n",
              "    </tr>\n",
              "    <tr>\n",
              "      <th>1</th>\n",
              "      <td>1</td>\n",
              "      <td>19</td>\n",
              "      <td>1</td>\n",
              "    </tr>\n",
              "    <tr>\n",
              "      <th>2</th>\n",
              "      <td>1</td>\n",
              "      <td>32</td>\n",
              "      <td>1</td>\n",
              "    </tr>\n",
              "    <tr>\n",
              "      <th>3</th>\n",
              "      <td>1</td>\n",
              "      <td>42</td>\n",
              "      <td>1</td>\n",
              "    </tr>\n",
              "    <tr>\n",
              "      <th>4</th>\n",
              "      <td>1</td>\n",
              "      <td>42</td>\n",
              "      <td>1</td>\n",
              "    </tr>\n",
              "  </tbody>\n",
              "</table>\n",
              "</div>"
            ],
            "text/plain": [
              "   Stage_group  Time  Event\n",
              "0            1     6      1\n",
              "1            1    19      1\n",
              "2            1    32      1\n",
              "3            1    42      1\n",
              "4            1    42      1"
            ]
          },
          "metadata": {
            "tags": []
          },
          "execution_count": 6
        }
      ]
    },
    {
      "cell_type": "code",
      "metadata": {
        "colab": {
          "base_uri": "https://localhost:8080/",
          "height": 299
        },
        "id": "4QbilfO5Z7d3",
        "outputId": "3a7d2047-3446-4a21-f250-0b444f71c209"
      },
      "source": [
        "data.Time.hist()\n",
        "plt.xlabel(\"Observation time before death or censorship (days)\")\n",
        "plt.ylabel(\"Frequency (number of patients)\")"
      ],
      "execution_count": null,
      "outputs": [
        {
          "output_type": "execute_result",
          "data": {
            "text/plain": [
              "Text(0, 0.5, 'Frequency (number of patients)')"
            ]
          },
          "metadata": {
            "tags": []
          },
          "execution_count": 7
        },
        {
          "output_type": "display_data",
          "data": {
            "image/png": "[encoded data removed]",
            "text/plain": [
              "<Figure size 432x288 with 1 Axes>"
            ]
          },
          "metadata": {
            "tags": [],
            "needs_background": "light"
          }
        }
      ]
    },
    {
      "cell_type": "code",
      "metadata": {
        "id": "d1Qg1Ak2Z7gZ"
      },
      "source": [
        "def frac_censored(df):\n",
        "  result = 0.0\n",
        "  result = sum(df.Event==0) / df.shape[0]\n",
        "  return result"
      ],
      "execution_count": null,
      "outputs": []
    },
    {
      "cell_type": "code",
      "metadata": {
        "colab": {
          "base_uri": "https://localhost:8080/"
        },
        "id": "ZA9rWvhXZ7jz",
        "outputId": "ace959d7-ecae-449f-8206-8079766f4bc1"
      },
      "source": [
        "print(frac_censored(data))"
      ],
      "execution_count": null,
      "outputs": [
        {
          "output_type": "stream",
          "text": [
            "0.325\n"
          ],
          "name": "stdout"
        }
      ]
    },
    {
      "cell_type": "code",
      "metadata": {
        "colab": {
          "base_uri": "https://localhost:8080/",
          "height": 573
        },
        "id": "axjXMxtLZ7mr",
        "outputId": "45a81291-9871-4b8a-d482-6b568f3e3e93"
      },
      "source": [
        "df_censored = data[data.Event == 0]\n",
        "df_uncensored = data[data.Event == 1]\n",
        "\n",
        "df_censored.Time.hist()\n",
        "plt.title(\"Censored\")\n",
        "plt.xlabel(\"Time (days)\")\n",
        "plt.ylabel(\"Frequency\")\n",
        "plt.show()\n",
        "\n",
        "df_uncensored.Time.hist()\n",
        "plt.title(\"Uncensored\")\n",
        "plt.xlabel(\"Time (days)\")\n",
        "plt.ylabel(\"Frequency\")\n",
        "plt.show()"
      ],
      "execution_count": null,
      "outputs": [
        {
          "output_type": "display_data",
          "data": {
            "image/png": "[encoded data removed]",
            "text/plain": [
              "<Figure size 432x288 with 1 Axes>"
            ]
          },
          "metadata": {
            "tags": [],
            "needs_background": "light"
          }
        },
        {
          "output_type": "display_data",
          "data": {
            "image/png": "[encoded data removed]",
            "text/plain": [
              "<Figure size 432x288 with 1 Axes>"
            ]
          },
          "metadata": {
            "tags": [],
            "needs_background": "light"
          }
        }
      ]
    },
    {
      "cell_type": "code",
      "metadata": {
        "id": "SSK8Qw_Zm7fk"
      },
      "source": [
        " '''\n",
        " Return naive estimate for S(t), the probability\n",
        "    of surviving past time t. Given by number\n",
        "    of cases who survived past time t divided by the\n",
        "    number of cases who weren't censored before time t."
      ],
      "execution_count": null,
      "outputs": []
    },
    {
      "cell_type": "code",
      "metadata": {
        "id": "vZujjkQVZ7pi"
      },
      "source": [
        "def naive_estimator(t,df):\n",
        "  s_t = 0.0\n",
        "  s_t = sum(df.Time > t) / sum((df.Event == 1) | (df.Time > t)) \n",
        "  return s_t"
      ],
      "execution_count": null,
      "outputs": []
    },
    {
      "cell_type": "code",
      "metadata": {
        "colab": {
          "base_uri": "https://localhost:8080/"
        },
        "id": "TNB5qyR3Z7sX",
        "outputId": "e6ca8678-e2e2-454d-90af-4c144d69f430"
      },
      "source": [
        "print(\"Test Cases\")\n",
        "sample_df = pd.DataFrame(columns = [\"Time\", \"Event\"])\n",
        "sample_df.Time = [5, 10, 15]\n",
        "sample_df.Event = [0, 1, 0]\n",
        "print(\"Test Case : S(3)\")\n",
        "print(\"Output: {}, Expected: {}\\n\".format(naive_estimator(3, sample_df), 1.0))"
      ],
      "execution_count": null,
      "outputs": [
        {
          "output_type": "stream",
          "text": [
            "Test Cases\n",
            "Test Case : S(3)\n",
            "Output: 1.0, Expected: 1.0\n",
            "\n"
          ],
          "name": "stdout"
        }
      ]
    },
    {
      "cell_type": "code",
      "metadata": {
        "colab": {
          "base_uri": "https://localhost:8080/",
          "height": 295
        },
        "id": "cqq3ZQAAkuRs",
        "outputId": "99870212-88b6-4162-bcb7-a5edee3c7fd6"
      },
      "source": [
        "max_time = data.Time.max()\n",
        "x = range(0,max_time+1)\n",
        "y = np.zeros(len(x))\n",
        "for i,t in enumerate(x):\n",
        "  y[i] = naive_estimator(t,data)\n",
        "plt.plot(x, y)\n",
        "plt.title(\"Naive Survival Estimate\")\n",
        "plt.xlabel(\"Time\")\n",
        "plt.ylabel(\"Estimated cumulative survival rate\")\n",
        "plt.show()"
      ],
      "execution_count": null,
      "outputs": [
        {
          "output_type": "display_data",
          "data": {
            "image/png": "[encoded data removed]",
            "text/plain": [
              "<Figure size 432x288 with 1 Axes>"
            ]
          },
          "metadata": {
            "tags": [],
            "needs_background": "light"
          }
        }
      ]
    },
    {
      "cell_type": "markdown",
      "metadata": {
        "id": "U6fmlcZAZhyS"
      },
      "source": [
        "<a name=\"kaplan-meier\"></a>\n",
        "## Kaplan-Meier\n",
        "\n",
        "The Kaplan Meier estimate of survival probability is:\n",
        "\n",
        "$$\n",
        "S(t) = \\prod_{t_i \\leq t} (1 - \\frac{d_i}{n_i})\n",
        "$$\n",
        "\n",
        "- $t_i$ are the events observed in the dataset \n",
        "- $d_i$ is the number of deaths at time $t_i$\n",
        "- $n_i$ is the number of people who we know have survived up to time $t_i$.\n"
      ]
    },
    {
      "cell_type": "code",
      "metadata": {
        "id": "9fS6A0IAsgMu"
      },
      "source": [
        "'''\n",
        " Args:\n",
        "        df (dataframe): dataframe which has columns for Time\n",
        "                          and Event, defined as usual.\n",
        "                          \n",
        "    Returns:\n",
        "        event_times (list of ints): array of unique event times\n",
        "                                      (begins with 0).\n",
        "        S (list of floats): array of survival probabilites, so that\n",
        "                            S[i] = P(T > event_times[i]). This \n",
        "                            begins with 1.0 (since no one dies at time\n",
        "                            0).\n",
        "    \"\"\""
      ],
      "execution_count": null,
      "outputs": []
    },
    {
      "cell_type": "code",
      "metadata": {
        "id": "lZncoHMGZ7vB"
      },
      "source": [
        "def homemadekm(df):\n",
        "  event_times = [0]\n",
        "  p = 1.0\n",
        "  s = [p]\n",
        "  observed_event_times = df.Time.unique()\n",
        "  observed_event_times = np.sort(observed_event_times)\n",
        "  for t in observed_event_times:\n",
        "    n_t = sum(df.Time >= t)\n",
        "    d_t = sum((df.Time == t) & (df.Event == 1))\n",
        "    p *= 1. - (d_t/n_t)\n",
        "    s.append(p)\n",
        "    event_times.append(t)\n",
        "  return event_times,s"
      ],
      "execution_count": null,
      "outputs": []
    },
    {
      "cell_type": "code",
      "metadata": {
        "colab": {
          "base_uri": "https://localhost:8080/"
        },
        "id": "WYYcLhuUZ7yL",
        "outputId": "f500a9f5-7f11-44f0-8aa1-9690cb87a052"
      },
      "source": [
        "sample_df = pd.DataFrame(columns = [\"Time\", \"Event\"])\n",
        "sample_df.Time = [5, 10, 15]\n",
        "sample_df.Event = [0, 1, 0]\n",
        "print(sample_df.head())\n",
        "x, y = homemadekm(sample_df)\n",
        "print(\"Event times: {}, Survival Probabilities: {}\".format(x, y))"
      ],
      "execution_count": null,
      "outputs": [
        {
          "output_type": "stream",
          "text": [
            "   Time  Event\n",
            "0     5      0\n",
            "1    10      1\n",
            "2    15      0\n",
            "Event times: [0, 5, 10, 15], Survival Probabilities: [1.0, 1.0, 0.5, 0.5]\n"
          ],
          "name": "stdout"
        }
      ]
    },
    {
      "cell_type": "code",
      "metadata": {
        "colab": {
          "base_uri": "https://localhost:8080/",
          "height": 279
        },
        "id": "c1mwdr4iZ70X",
        "outputId": "bd66e0a8-4d92-4981-c155-8b1f6a517cb0"
      },
      "source": [
        "max_time = data.Time.max()\n",
        "x = range(0, max_time+1)\n",
        "y = np.zeros(len(x))\n",
        "for i, t in enumerate(x):\n",
        "    y[i] = naive_estimator(t, data)\n",
        "    \n",
        "plt.plot(x, y, label=\"Naive\")\n",
        "x, y = homemadekm(data)\n",
        "plt.step(x, y, label=\"Kaplan-Meier\")\n",
        "plt.xlabel(\"Time\")\n",
        "plt.ylabel(\"Survival probability estimate\")\n",
        "plt.legend()\n",
        "plt.show()"
      ],
      "execution_count": null,
      "outputs": [
        {
          "output_type": "display_data",
          "data": {
            "image/png": "[encoded data removed]",
            "text/plain": [
              "<Figure size 432x288 with 1 Axes>"
            ]
          },
          "metadata": {
            "tags": [],
            "needs_background": "light"
          }
        }
      ]
    },
    {
      "cell_type": "code",
      "metadata": {
        "colab": {
          "base_uri": "https://localhost:8080/",
          "height": 279
        },
        "id": "uyjFi4y4Z72_",
        "outputId": "9cd5749b-048a-4329-be68-35dbc1de1d2e"
      },
      "source": [
        "S1 = data[data.Stage_group == 1]\n",
        "km1 = km()\n",
        "km1.fit(S1.loc[:, 'Time'], event_observed = S1.loc[:, 'Event'], label = 'Stage III')\n",
        "S2 = data[data.Stage_group == 2]\n",
        "km2 = km()\n",
        "km2.fit(S2.loc[:, \"Time\"], event_observed = S2.loc[:, 'Event'], label = 'Stage IV')\n",
        "ax = km1.plot(ci_show=False)\n",
        "km2.plot(ax = ax, ci_show=False)\n",
        "plt.xlabel('time')\n",
        "plt.ylabel('Survival probability estimate')\n",
        "plt.savefig('two_km_curves', dpi=300)"
      ],
      "execution_count": null,
      "outputs": [
        {
          "output_type": "display_data",
          "data": {
            "image/png": "[encoded data removed]",
            "text/plain": [
              "<Figure size 432x288 with 1 Axes>"
            ]
          },
          "metadata": {
            "tags": [],
            "needs_background": "light"
          }
        }
      ]
    },
    {
      "cell_type": "code",
      "metadata": {
        "id": "kGwx0xTqZ75W"
      },
      "source": [
        "survivals = pd.DataFrame([90, 180, 270, 360], columns = ['time'])\n",
        "survivals.loc[:, 'Group 1'] = km1.survival_function_at_times(survivals['time']).values\n",
        "survivals.loc[:, 'Group 2'] = km2.survival_function_at_times(survivals['time']).values"
      ],
      "execution_count": null,
      "outputs": []
    },
    {
      "cell_type": "code",
      "metadata": {
        "colab": {
          "base_uri": "https://localhost:8080/",
          "height": 175
        },
        "id": "P7ZnIfrYZ77g",
        "outputId": "df1dff38-4a09-4a66-ca63-28bc139f3656"
      },
      "source": [
        "survivals"
      ],
      "execution_count": null,
      "outputs": [
        {
          "output_type": "execute_result",
          "data": {
            "text/html": [
              "<div>\n",
              "<style scoped>\n",
              "    .dataframe tbody tr th:only-of-type {\n",
              "        vertical-align: middle;\n",
              "    }\n",
              "\n",
              "    .dataframe tbody tr th {\n",
              "        vertical-align: top;\n",
              "    }\n",
              "\n",
              "    .dataframe thead th {\n",
              "        text-align: right;\n",
              "    }\n",
              "</style>\n",
              "<table border=\"1\" class=\"dataframe\">\n",
              "  <thead>\n",
              "    <tr style=\"text-align: right;\">\n",
              "      <th></th>\n",
              "      <th>time</th>\n",
              "      <th>Group 1</th>\n",
              "      <th>Group 2</th>\n",
              "    </tr>\n",
              "  </thead>\n",
              "  <tbody>\n",
              "    <tr>\n",
              "      <th>0</th>\n",
              "      <td>90</td>\n",
              "      <td>0.736842</td>\n",
              "      <td>0.424529</td>\n",
              "    </tr>\n",
              "    <tr>\n",
              "      <th>1</th>\n",
              "      <td>180</td>\n",
              "      <td>0.680162</td>\n",
              "      <td>0.254066</td>\n",
              "    </tr>\n",
              "    <tr>\n",
              "      <th>2</th>\n",
              "      <td>270</td>\n",
              "      <td>0.524696</td>\n",
              "      <td>0.195436</td>\n",
              "    </tr>\n",
              "    <tr>\n",
              "      <th>3</th>\n",
              "      <td>360</td>\n",
              "      <td>0.524696</td>\n",
              "      <td>0.195436</td>\n",
              "    </tr>\n",
              "  </tbody>\n",
              "</table>\n",
              "</div>"
            ],
            "text/plain": [
              "   time   Group 1   Group 2\n",
              "0    90  0.736842  0.424529\n",
              "1   180  0.680162  0.254066\n",
              "2   270  0.524696  0.195436\n",
              "3   360  0.524696  0.195436"
            ]
          },
          "metadata": {
            "tags": []
          },
          "execution_count": 29
        }
      ]
    },
    {
      "cell_type": "code",
      "metadata": {
        "id": "Uqea7HWTy8bX"
      },
      "source": [
        "'''\n",
        "If everything is correct, you should see a p value of less than 0.05, \n",
        "which indicates that the difference in the curves is indeed statistically significant."
      ],
      "execution_count": null,
      "outputs": []
    },
    {
      "cell_type": "code",
      "metadata": {
        "colab": {
          "base_uri": "https://localhost:8080/"
        },
        "id": "_zNw_oO6ykB2",
        "outputId": "ef16a1c5-ebf6-4acf-de4b-ab358a05c256"
      },
      "source": [
        "def logrank_p_value(group_1_data, group_2_data):\n",
        "    result = logrank_test(group_1_data.Time, group_2_data.Time,\n",
        "                          group_1_data.Event, group_2_data.Event)\n",
        "    return result.p_value\n",
        "\n",
        "logrank_p_value(S1, S2)"
      ],
      "execution_count": null,
      "outputs": [
        {
          "output_type": "execute_result",
          "data": {
            "text/plain": [
              "0.009588929834755544"
            ]
          },
          "metadata": {
            "tags": []
          },
          "execution_count": 30
        }
      ]
    }
  ]
}