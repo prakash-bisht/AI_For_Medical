{
  "nbformat": 4,
  "nbformat_minor": 0,
  "metadata": {
    "colab": {
      "name": "AIMedical14.ipynb",
      "provenance": [],
      "collapsed_sections": []
    },
    "kernelspec": {
      "name": "python3",
      "display_name": "Python 3"
    },
    "language_info": {
      "name": "python"
    }
  },
  "cells": [
    {
      "cell_type": "code",
      "metadata": {
        "id": "PC_MWo6LHFPP"
      },
      "source": [
        "'''\n",
        "measuring the effect of a particular drug combination on colon cancer.\n",
        "Specifically, we'll be looking the effect of Levamisole and Fluorouracil on patients who have had surgery to remove their colon cancer. \n",
        "After surgery, the curability of the patient depends on the remaining residual cancer. \n",
        "In this study, it was found that this particular drug combination had a clear beneficial effect, when compared with Chemotherapy. "
      ],
      "execution_count": null,
      "outputs": []
    },
    {
      "cell_type": "code",
      "metadata": {
        "id": "5oNple1wHL9d"
      },
      "source": [
        "'''\n",
        "    sex (binary): 1 if Male, 0 otherwise\n",
        "    age (int): age of patient at start of the study\n",
        "    obstruct (binary): obstruction of colon by tumor\n",
        "    perfor (binary): perforation of colon\n",
        "    adhere (binary): adherence to nearby organs\n",
        "    nodes (int): number of lymphnodes with detectable cancer\n",
        "    node4 (binary): more than 4 positive lymph nodes\n",
        "    outcome (binary): 1 if died within 5 years\n",
        "    TRTMT (binary): treated with levamisole + fluoroucil\n",
        "    differ (one-hot): differentiation of tumor\n",
        "    extent (one-hot): extent of local spread\n"
      ],
      "execution_count": null,
      "outputs": []
    },
    {
      "cell_type": "code",
      "metadata": {
        "id": "ezaIcgsUHMBM"
      },
      "source": [
        "import pandas as pd \n",
        "import numpy as np \n",
        "import matplotlib.pyplot as plt\n",
        "import itertools\n",
        "import random"
      ],
      "execution_count": null,
      "outputs": []
    },
    {
      "cell_type": "code",
      "metadata": {
        "id": "89nOqMFsHMEr",
        "colab": {
          "base_uri": "https://localhost:8080/",
          "height": 224
        },
        "outputId": "2e4aa12e-bfb7-4a51-fd50-125f0a85fd7a"
      },
      "source": [
        "data = pd.read_csv(\"levamisole_data.csv\",index_col=0)\n",
        "print(f\"shape of the data: {data.shape}\")\n",
        "data.head()"
      ],
      "execution_count": null,
      "outputs": [
        {
          "output_type": "stream",
          "text": [
            "shape of the data: (607, 14)\n"
          ],
          "name": "stdout"
        },
        {
          "output_type": "execute_result",
          "data": {
            "text/html": [
              "<div>\n",
              "<style scoped>\n",
              "    .dataframe tbody tr th:only-of-type {\n",
              "        vertical-align: middle;\n",
              "    }\n",
              "\n",
              "    .dataframe tbody tr th {\n",
              "        vertical-align: top;\n",
              "    }\n",
              "\n",
              "    .dataframe thead th {\n",
              "        text-align: right;\n",
              "    }\n",
              "</style>\n",
              "<table border=\"1\" class=\"dataframe\">\n",
              "  <thead>\n",
              "    <tr style=\"text-align: right;\">\n",
              "      <th></th>\n",
              "      <th>sex</th>\n",
              "      <th>age</th>\n",
              "      <th>obstruct</th>\n",
              "      <th>perfor</th>\n",
              "      <th>adhere</th>\n",
              "      <th>nodes</th>\n",
              "      <th>node4</th>\n",
              "      <th>outcome</th>\n",
              "      <th>TRTMT</th>\n",
              "      <th>differ_2.0</th>\n",
              "      <th>differ_3.0</th>\n",
              "      <th>extent_2</th>\n",
              "      <th>extent_3</th>\n",
              "      <th>extent_4</th>\n",
              "    </tr>\n",
              "  </thead>\n",
              "  <tbody>\n",
              "    <tr>\n",
              "      <th>1</th>\n",
              "      <td>1</td>\n",
              "      <td>43</td>\n",
              "      <td>0</td>\n",
              "      <td>0</td>\n",
              "      <td>0</td>\n",
              "      <td>5.0</td>\n",
              "      <td>1</td>\n",
              "      <td>1</td>\n",
              "      <td>True</td>\n",
              "      <td>1</td>\n",
              "      <td>0</td>\n",
              "      <td>0</td>\n",
              "      <td>1</td>\n",
              "      <td>0</td>\n",
              "    </tr>\n",
              "    <tr>\n",
              "      <th>2</th>\n",
              "      <td>1</td>\n",
              "      <td>63</td>\n",
              "      <td>0</td>\n",
              "      <td>0</td>\n",
              "      <td>0</td>\n",
              "      <td>1.0</td>\n",
              "      <td>0</td>\n",
              "      <td>0</td>\n",
              "      <td>True</td>\n",
              "      <td>1</td>\n",
              "      <td>0</td>\n",
              "      <td>0</td>\n",
              "      <td>1</td>\n",
              "      <td>0</td>\n",
              "    </tr>\n",
              "    <tr>\n",
              "      <th>3</th>\n",
              "      <td>0</td>\n",
              "      <td>71</td>\n",
              "      <td>0</td>\n",
              "      <td>0</td>\n",
              "      <td>1</td>\n",
              "      <td>7.0</td>\n",
              "      <td>1</td>\n",
              "      <td>1</td>\n",
              "      <td>False</td>\n",
              "      <td>1</td>\n",
              "      <td>0</td>\n",
              "      <td>1</td>\n",
              "      <td>0</td>\n",
              "      <td>0</td>\n",
              "    </tr>\n",
              "    <tr>\n",
              "      <th>4</th>\n",
              "      <td>0</td>\n",
              "      <td>66</td>\n",
              "      <td>1</td>\n",
              "      <td>0</td>\n",
              "      <td>0</td>\n",
              "      <td>6.0</td>\n",
              "      <td>1</td>\n",
              "      <td>1</td>\n",
              "      <td>True</td>\n",
              "      <td>1</td>\n",
              "      <td>0</td>\n",
              "      <td>0</td>\n",
              "      <td>1</td>\n",
              "      <td>0</td>\n",
              "    </tr>\n",
              "    <tr>\n",
              "      <th>5</th>\n",
              "      <td>1</td>\n",
              "      <td>69</td>\n",
              "      <td>0</td>\n",
              "      <td>0</td>\n",
              "      <td>0</td>\n",
              "      <td>22.0</td>\n",
              "      <td>1</td>\n",
              "      <td>1</td>\n",
              "      <td>False</td>\n",
              "      <td>1</td>\n",
              "      <td>0</td>\n",
              "      <td>0</td>\n",
              "      <td>1</td>\n",
              "      <td>0</td>\n",
              "    </tr>\n",
              "  </tbody>\n",
              "</table>\n",
              "</div>"
            ],
            "text/plain": [
              "   sex  age  obstruct  perfor  ...  differ_3.0  extent_2  extent_3  extent_4\n",
              "1    1   43         0       0  ...           0         0         1         0\n",
              "2    1   63         0       0  ...           0         0         1         0\n",
              "3    0   71         0       0  ...           0         1         0         0\n",
              "4    0   66         1       0  ...           0         0         1         0\n",
              "5    1   69         0       0  ...           0         0         1         0\n",
              "\n",
              "[5 rows x 14 columns]"
            ]
          },
          "metadata": {
            "tags": []
          },
          "execution_count": 3
        }
      ]
    },
    {
      "cell_type": "code",
      "metadata": {
        "id": "rtHiqDdFHMHd"
      },
      "source": [
        "def proportion_treated(df):\n",
        "  proportion = np.sum(df['TRTMT']) / len(df)\n",
        "  return proportion"
      ],
      "execution_count": null,
      "outputs": []
    },
    {
      "cell_type": "code",
      "metadata": {
        "id": "QCahg177HMJ8",
        "colab": {
          "base_uri": "https://localhost:8080/"
        },
        "outputId": "62882fdd-09bf-47fb-fff2-a3170865b283"
      },
      "source": [
        "example_df = pd.DataFrame(data =[[0, 0],\n",
        "                                 [1, 1], \n",
        "                                 [1, 1],\n",
        "                                 [1, 1]], columns = ['outcome', 'TRTMT'])\n",
        "print(example_df)\n",
        "print(\"\\n\")\n",
        "treated_proportion = proportion_treated(example_df)\n",
        "print(f\"Proportion of patient treated: computed {treated_proportion}\")"
      ],
      "execution_count": null,
      "outputs": [
        {
          "output_type": "stream",
          "text": [
            "   outcome  TRTMT\n",
            "0        0      0\n",
            "1        1      1\n",
            "2        1      1\n",
            "3        1      1\n",
            "\n",
            "\n",
            "Proportion of patient treated: computed 0.75\n"
          ],
          "name": "stdout"
        }
      ]
    },
    {
      "cell_type": "code",
      "metadata": {
        "id": "BvyTWoQQHMMz",
        "colab": {
          "base_uri": "https://localhost:8080/"
        },
        "outputId": "42d153ca-0c09-439f-8d7a-37e9520bd470"
      },
      "source": [
        "p = proportion_treated(data)\n",
        "print(f\"proportion treated: {p} ~ {int(p*100)}%\")"
      ],
      "execution_count": null,
      "outputs": [
        {
          "output_type": "stream",
          "text": [
            "proportion treated: 0.49093904448105435 ~ 49%\n"
          ],
          "name": "stdout"
        }
      ]
    },
    {
      "cell_type": "code",
      "metadata": {
        "id": "j4tFzRlQHMO5"
      },
      "source": [
        "def event_rate(df):\n",
        "  treated_prob = 0.0\n",
        "  control_prob = 0.0\n",
        "  treated_prob = len(df[(df['TRTMT']==True) & (df['outcome']==1)]) / len(df[df['TRTMT']==True]) \n",
        "  control_prob = len(df[(df['TRTMT']==False) & (df['outcome']==1)]) / len(df[df['TRTMT']==True])\n",
        "  return treated_prob,control_prob "
      ],
      "execution_count": null,
      "outputs": []
    },
    {
      "cell_type": "code",
      "metadata": {
        "id": "tucw-ehFHMR1",
        "colab": {
          "base_uri": "https://localhost:8080/"
        },
        "outputId": "cd49e8b7-8bd0-4090-cb68-6cfdd0743385"
      },
      "source": [
        "example_df = pd.DataFrame(data =[[0, 1],\n",
        "                                 [1, 1], \n",
        "                                 [1, 1],\n",
        "                                 [0, 1],\n",
        "                                 [1, 0],\n",
        "                                 [1, 0],\n",
        "                                 [1, 0],\n",
        "                                 [0, 0]], columns = ['outcome', 'TRTMT'])\n",
        "print(example_df)\n",
        "print(\"\\n\")\n",
        "treated_prob, control_prob = event_rate(example_df)\n",
        "print(f\"Treated 5-year death rate: {treated_prob:.4f}\")\n",
        "print(f\"Control 5-year death rate: {control_prob:.4f}\")"
      ],
      "execution_count": null,
      "outputs": [
        {
          "output_type": "stream",
          "text": [
            "   outcome  TRTMT\n",
            "0        0      1\n",
            "1        1      1\n",
            "2        1      1\n",
            "3        0      1\n",
            "4        1      0\n",
            "5        1      0\n",
            "6        1      0\n",
            "7        0      0\n",
            "\n",
            "\n",
            "Treated 5-year death rate: 0.5000\n",
            "Control 5-year death rate: 0.7500\n"
          ],
          "name": "stdout"
        }
      ]
    },
    {
      "cell_type": "code",
      "metadata": {
        "id": "r21PcBujHMUJ",
        "colab": {
          "base_uri": "https://localhost:8080/"
        },
        "outputId": "be8f851f-c21d-49ef-f0a2-053d6010b0ff"
      },
      "source": [
        "treated_prob, control_prob = event_rate(data)\n",
        "print(f\"Death rate for treated patients: {treated_prob:.4f} ~ {int(treated_prob*100)}%\")\n",
        "print(f\"Death rate for untreated patients: {control_prob:.4f} ~ {int(control_prob*100)}%\")"
      ],
      "execution_count": null,
      "outputs": [
        {
          "output_type": "stream",
          "text": [
            "Death rate for treated patients: 0.3725 ~ 37%\n",
            "Death rate for untreated patients: 0.5000 ~ 50%\n"
          ],
          "name": "stdout"
        }
      ]
    },
    {
      "cell_type": "code",
      "metadata": {
        "id": "MzGN9QWbHMXM"
      },
      "source": [
        "from sklearn.model_selection import train_test_split\n",
        "np.random.seed(18)\n",
        "data = data.dropna(axis=0)\n",
        "y = data.outcome\n",
        "x = data.drop('outcome',axis=1)\n",
        "x_dev,x_test,y_dev,y_test = train_test_split(x,y,test_size=0.25,random_state=0)"
      ],
      "execution_count": null,
      "outputs": []
    },
    {
      "cell_type": "code",
      "metadata": {
        "id": "MxejtCGdHMZo",
        "colab": {
          "base_uri": "https://localhost:8080/"
        },
        "outputId": "f5516830-54e2-49df-9413-1a0dc90f6755"
      },
      "source": [
        "print(f\"dev set shape: {x_dev.shape}\")\n",
        "print(f\"test set shape: {x_test.shape}\")"
      ],
      "execution_count": null,
      "outputs": [
        {
          "output_type": "stream",
          "text": [
            "dev set shape: (455, 13)\n",
            "test set shape: (152, 13)\n"
          ],
          "name": "stdout"
        }
      ]
    },
    {
      "cell_type": "code",
      "metadata": {
        "id": "KzFwH7WGHMcM"
      },
      "source": [
        "from sklearn.linear_model import LogisticRegression \n",
        "lr = LogisticRegression(penalty='l2',solver=\"lbfgs\",max_iter=10000).fit(x_dev,y_dev)"
      ],
      "execution_count": null,
      "outputs": []
    },
    {
      "cell_type": "code",
      "metadata": {
        "id": "Ew6zSz1FHMfA"
      },
      "source": [
        "def extract_treatment_effect(lr,data):\n",
        "  theta_TRTMT = 0.0\n",
        "  TRTMT_OR = 0.0\n",
        "  coeffs = {data.columns[i]:lr.coef_[0][i] for i in range(len(data.columns))}\n",
        "  theta_TRTMT = coeffs[\"TRTMT\"]\n",
        "  TRTMT_OR = np.exp(theta_TRTMT)\n",
        "  return theta_TRTMT,TRTMT_OR"
      ],
      "execution_count": null,
      "outputs": []
    },
    {
      "cell_type": "code",
      "metadata": {
        "id": "wLlwKiHpHMhQ",
        "colab": {
          "base_uri": "https://localhost:8080/"
        },
        "outputId": "32469229-af5b-4783-a4a1-9f87b862e695"
      },
      "source": [
        "theta_TRTMT, trtmt_OR = extract_treatment_effect(lr, x_dev)\n",
        "print(f\"Theta_TRTMT: {theta_TRTMT:.4f}\")\n",
        "print(f\"Treatment Odds Ratio: {trtmt_OR:.4f}\")"
      ],
      "execution_count": null,
      "outputs": [
        {
          "output_type": "stream",
          "text": [
            "Theta_TRTMT: -0.2885\n",
            "Treatment Odds Ratio: 0.7494\n"
          ],
          "name": "stdout"
        }
      ]
    },
    {
      "cell_type": "code",
      "metadata": {
        "id": "abf4Mk6kHMjf"
      },
      "source": [
        "def OR_to_ARR(p,OR):\n",
        "  odds_baseline = p/(1-p)\n",
        "  odds_trtmt = OR * odds_baseline\n",
        "  p_trtmt = odds_trtmt/(1+odds_trtmt)\n",
        "  ARR = p - p_trtmt\n",
        "  return ARR "
      ],
      "execution_count": null,
      "outputs": []
    },
    {
      "cell_type": "code",
      "metadata": {
        "colab": {
          "base_uri": "https://localhost:8080/"
        },
        "id": "P7L5gwl8qNmz",
        "outputId": "b83f74bb-c348-44ca-a19c-fbd7d0fdc116"
      },
      "source": [
        "test_p, test_OR = (0.75, 0.5)\n",
        "print(f\"baseline p: {test_p}, OR: {test_OR}\")\n",
        "print(f\"Output: {OR_to_ARR(test_p, test_OR):.4f}\")"
      ],
      "execution_count": null,
      "outputs": [
        {
          "output_type": "stream",
          "text": [
            "baseline p: 0.75, OR: 0.5\n",
            "Output: 0.1500\n"
          ],
          "name": "stdout"
        }
      ]
    },
    {
      "cell_type": "code",
      "metadata": {
        "colab": {
          "base_uri": "https://localhost:8080/",
          "height": 295
        },
        "id": "yorg11YeqNqW",
        "outputId": "89630bcc-93fe-4aa4-b3fb-3b63ae50087b"
      },
      "source": [
        "ps = np.arange(0.001, 0.999, 0.001)\n",
        "diffs = [OR_to_ARR(p, trtmt_OR) for p in ps]\n",
        "plt.plot(ps, diffs)\n",
        "plt.title(\"Absolute Risk Reduction for Constant Treatment OR\")\n",
        "plt.xlabel('Baseline Risk')\n",
        "plt.ylabel('Absolute Risk Reduction')\n",
        "plt.show()"
      ],
      "execution_count": null,
      "outputs": [
        {
          "output_type": "display_data",
          "data": {
            "image/png": "[encoded data removed]",
            "text/plain": [
              "<Figure size 432x288 with 1 Axes>"
            ]
          },
          "metadata": {
            "tags": [],
            "needs_background": "light"
          }
        }
      ]
    },
    {
      "cell_type": "code",
      "metadata": {
        "id": "KemUvifEqNux"
      },
      "source": [
        "'''\n",
        "The baseline risk is the model's predicted probability that the patient is predicted to die if they do not receive treatment.\n",
        "we are gonna later use the baseline risk of each patient to organize patients into risk groups (that have similar baseline risks)."
      ],
      "execution_count": null,
      "outputs": []
    },
    {
      "cell_type": "code",
      "metadata": {
        "id": "v9YHIJVmqNyK"
      },
      "source": [
        "def base_risk(x,lr_model):\n",
        "  x = x.copy(deep=True)\n",
        "  x[\"TRTMT\"] = 0 \n",
        "  risks = lr_model.predict_proba(x)[:,1]\n",
        "  return risks\n"
      ],
      "execution_count": null,
      "outputs": []
    },
    {
      "cell_type": "code",
      "metadata": {
        "id": "FhFrdGSiqN14"
      },
      "source": [
        "def lr_ARR_quantile(x,y,lr):\n",
        "  x = x.copy(deep=True)\n",
        "  df = x.copy(deep=True)\n",
        "  baseline_risk = base_risk(df,lr)\n",
        "  risk_groups = pd.cut(baseline_risk,10)\n",
        "  df.loc[:,'baseline_risk'] = baseline_risk\n",
        "  df.loc[:,'risk_groups'] = risk_groups\n",
        "  df.loc[:,'y'] = y\n",
        "  df_baseline = df[df[\"TRTMT\"]==False]\n",
        "  df_treatment = df[df[\"TRTMT\"]==True]\n",
        "  baseline_mean_by_risk_group = df_baseline.groupby('risk_groups')['y'].mean()\n",
        "  treatment_mean_by_risk_group = df_treatment.groupby('risk_groups')['y'].mean()\n",
        "  arr_by_risk_group = baseline_mean_by_risk_group - treatment_mean_by_risk_group\n",
        "  arr_by_risk_group.index = df.groupby('risk_groups')['baseline_risk'].mean()\n",
        "  arr_by_risk_group.name = 'ARR'\n",
        "  return arr_by_risk_group "
      ],
      "execution_count": null,
      "outputs": []
    },
    {
      "cell_type": "code",
      "metadata": {
        "id": "noOKwXXSqN4p",
        "colab": {
          "base_uri": "https://localhost:8080/",
          "height": 603
        },
        "outputId": "7fa591dd-18df-4bb3-c6af-d7653a5b9fab"
      },
      "source": [
        "abs_risks = lr_ARR_quantile(x_dev,y_dev,lr)\n",
        "print(abs_risks)\n",
        "display(pd.DataFrame(abs_risks))"
      ],
      "execution_count": null,
      "outputs": [
        {
          "output_type": "stream",
          "text": [
            "baseline_risk\n",
            "0.231595    0.089744\n",
            "0.314713    0.042857\n",
            "0.386342   -0.014604\n",
            "0.458883    0.122222\n",
            "0.530568    0.142857\n",
            "0.626937   -0.104072\n",
            "0.693404    0.150000\n",
            "0.777353    0.293706\n",
            "0.836617    0.083333\n",
            "0.918884    0.200000\n",
            "Name: ARR, dtype: float64\n"
          ],
          "name": "stdout"
        },
        {
          "output_type": "display_data",
          "data": {
            "text/html": [
              "<div>\n",
              "<style scoped>\n",
              "    .dataframe tbody tr th:only-of-type {\n",
              "        vertical-align: middle;\n",
              "    }\n",
              "\n",
              "    .dataframe tbody tr th {\n",
              "        vertical-align: top;\n",
              "    }\n",
              "\n",
              "    .dataframe thead th {\n",
              "        text-align: right;\n",
              "    }\n",
              "</style>\n",
              "<table border=\"1\" class=\"dataframe\">\n",
              "  <thead>\n",
              "    <tr style=\"text-align: right;\">\n",
              "      <th></th>\n",
              "      <th>ARR</th>\n",
              "    </tr>\n",
              "    <tr>\n",
              "      <th>baseline_risk</th>\n",
              "      <th></th>\n",
              "    </tr>\n",
              "  </thead>\n",
              "  <tbody>\n",
              "    <tr>\n",
              "      <th>0.231595</th>\n",
              "      <td>0.089744</td>\n",
              "    </tr>\n",
              "    <tr>\n",
              "      <th>0.314713</th>\n",
              "      <td>0.042857</td>\n",
              "    </tr>\n",
              "    <tr>\n",
              "      <th>0.386342</th>\n",
              "      <td>-0.014604</td>\n",
              "    </tr>\n",
              "    <tr>\n",
              "      <th>0.458883</th>\n",
              "      <td>0.122222</td>\n",
              "    </tr>\n",
              "    <tr>\n",
              "      <th>0.530568</th>\n",
              "      <td>0.142857</td>\n",
              "    </tr>\n",
              "    <tr>\n",
              "      <th>0.626937</th>\n",
              "      <td>-0.104072</td>\n",
              "    </tr>\n",
              "    <tr>\n",
              "      <th>0.693404</th>\n",
              "      <td>0.150000</td>\n",
              "    </tr>\n",
              "    <tr>\n",
              "      <th>0.777353</th>\n",
              "      <td>0.293706</td>\n",
              "    </tr>\n",
              "    <tr>\n",
              "      <th>0.836617</th>\n",
              "      <td>0.083333</td>\n",
              "    </tr>\n",
              "    <tr>\n",
              "      <th>0.918884</th>\n",
              "      <td>0.200000</td>\n",
              "    </tr>\n",
              "  </tbody>\n",
              "</table>\n",
              "</div>"
            ],
            "text/plain": [
              "                    ARR\n",
              "baseline_risk          \n",
              "0.231595       0.089744\n",
              "0.314713       0.042857\n",
              "0.386342      -0.014604\n",
              "0.458883       0.122222\n",
              "0.530568       0.142857\n",
              "0.626937      -0.104072\n",
              "0.693404       0.150000\n",
              "0.777353       0.293706\n",
              "0.836617       0.083333\n",
              "0.918884       0.200000"
            ]
          },
          "metadata": {
            "tags": []
          }
        }
      ]
    },
    {
      "cell_type": "code",
      "metadata": {
        "id": "RqQPjP00qN7g",
        "colab": {
          "base_uri": "https://localhost:8080/",
          "height": 279
        },
        "outputId": "656add23-5aa3-4289-9287-4ee7ae2783e3"
      },
      "source": [
        "plt.scatter(abs_risks.index,abs_risks,label=\"empirical error\")\n",
        "plt.ylabel(\"Absolute Risk Reduction\")\n",
        "plt.xlabel(\"Baseline Risk Range\")\n",
        "ps = np.arange(abs_risks.index[0]-0.05,abs_risks.index[-1]+0.05,0.01)\n",
        "diffs = [OR_to_ARR(p,trtmt_OR) for p in ps]\n",
        "plt.plot(ps,diffs,label=\"predicted ARR\")\n",
        "plt.legend(loc=\"upper right\")\n",
        "plt.show()"
      ],
      "execution_count": null,
      "outputs": [
        {
          "output_type": "display_data",
          "data": {
            "image/png": "[encoded data removed]",
            "text/plain": [
              "<Figure size 432x288 with 1 Axes>"
            ]
          },
          "metadata": {
            "tags": [],
            "needs_background": "light"
          }
        }
      ]
    },
    {
      "cell_type": "code",
      "metadata": {
        "id": "KgGRoTr212VX"
      },
      "source": [
        "'''\n",
        "The C-for-benefit\n",
        "\n",
        "P(P1 has a predicted ARR greater than P2|P1 experiences greater risk reduction than P2),\n",
        "\n",
        "    Pair 1 consists of two patients (A,B), where A receives treatment, B does not.\n",
        "    Pair 2 is another pair of two patients (A,B), where A receives treatment, B does not.\n",
        "\n",
        "The risk reduction for each pair is:\n",
        "\n",
        "    1 if the treated person A survives and the untreated B person does not (treatment helps).\n",
        "    -1 if the treated person A dies and the untreated person B doesn't (treatment harms)\n",
        "    0 otherwise (treatment has no effect, because both patients in the pair live, or both die).\n"
      ],
      "execution_count": null,
      "outputs": []
    },
    {
      "cell_type": "code",
      "metadata": {
        "id": "HDGov-mtqN-L"
      },
      "source": [
        "'''\n",
        "obs_benefit_dict = {\n",
        "        (0, 0): 0,\n",
        "        (0, 1): -1,\n",
        "        (1, 0): 1,\n",
        "        (1, 1): 0,\n",
        "    }\n",
        "\n",
        "Here is the interpretation of this dictionary for a pair of patients, (A,B), where A receives treatment and B does not:\n",
        "\n",
        "    When patient A does not die, and neither does patient B, (0, 0), the observed benefit of treatment is 0.\n",
        "    When patient A does not die, but patient B does die, (0, 1), the observed benefit is -1 (the treatment helped).\n",
        "    When patient A dies, but patient B does not die, (1, 0), the observed benefit is 1 (the treatment was harmful)\n",
        "    When patient A dies and patient B dies, (0, 0), the observed benefit of treatment is 0.\n",
        "\n",
        "Each patient in the pair is represented by a tuple (ARR, y)."
      ],
      "execution_count": null,
      "outputs": []
    },
    {
      "cell_type": "code",
      "metadata": {
        "id": "AqPwe36nqOAc"
      },
      "source": [
        "def c_for_benefit_score(pairs):\n",
        "  obs_benefit_dict = {\n",
        "        (0, 0): 0,\n",
        "        (0, 1): -1,\n",
        "        (1, 0): 1,\n",
        "        (1, 1): 0,\n",
        "    }\n",
        "  obs_benefit = [obs_benefit_dict[(i[1],j[1])] for (i,j) in pairs]\n",
        "  pred_benefit = [np.mean([i[0],j[0]]) for (i,j) in pairs]\n",
        "  concordant_count,permissible_count,risk_tie_count = 0,0,0\n",
        "  for i in range(len(pairs)):\n",
        "    for j in range(i+1,len(pairs)):\n",
        "      if obs_benefit[i] != obs_benefit[j]:\n",
        "        permissible_count += 1\n",
        "        if ((obs_benefit[i]<obs_benefit[j]) == (pred_benefit[i]<pred_benefit[j])):\n",
        "          concordant_count += 1 \n",
        "          if (pred_benefit[i] == pred_benefit[j]):\n",
        "            risk_tie_count +=1\n",
        "  cstat = (concordant_count + (0.5 * risk_tie_count)) / permissible_count\n",
        "  return cstat "
      ],
      "execution_count": null,
      "outputs": []
    },
    {
      "cell_type": "code",
      "metadata": {
        "id": "lYqF1WdFqODo"
      },
      "source": [
        "def c_statistics(pred_rr,y,w,random_seed=0):\n",
        "  assert len(pred_rr) == len(w) == len(y)\n",
        "  tuples = tuple(zip(pred_rr,y,w))\n",
        "  untreated = list(filter(lambda x : x[2] == 0,tuples))\n",
        "  treated = list(filter(lambda x: x[1] == 1,tuples))\n",
        "  if len(treated) < len(untreated):\n",
        "    untreated = random.sample(untreated,len(treated))\n",
        "  if len(untreated) < len(treated):\n",
        "    treated = random.sample(treated,len(untreated))\n",
        "  assert len(untreated)  == len(treated)\n",
        "  untreated = sorted(untreated,key=lambda x : x[0])\n",
        "  treated = sorted(treated,key=lambda x:x[0])\n",
        "  pairs = tuple(zip(treated,untreated))\n",
        "  cstat = c_for_benefit_score(pairs)\n",
        "  return cstat"
      ],
      "execution_count": null,
      "outputs": []
    },
    {
      "cell_type": "code",
      "metadata": {
        "id": "0iWz84F7qOGg",
        "colab": {
          "base_uri": "https://localhost:8080/"
        },
        "outputId": "672d7e1c-a486-417b-f7c9-4aa9517dae0b"
      },
      "source": [
        "tmp_pred_rr = [0.1,0.2,0.3,0.4,0.5,0.6,0.7,0.8,0.9]\n",
        "tmp_y = [0,1,0,1,0,1,0,1,0]\n",
        "tmp_w = [0,0,0,0,1,1,1,1,1]\n",
        "tmp_cstat = c_statistics(tmp_pred_rr, tmp_y, tmp_w)\n",
        "print(f\"C-for-benefit calculated is {tmp_cstat}\")"
      ],
      "execution_count": null,
      "outputs": [
        {
          "output_type": "stream",
          "text": [
            "C-for-benefit calculated is 0.25\n"
          ],
          "name": "stdout"
        }
      ]
    },
    {
      "cell_type": "code",
      "metadata": {
        "id": "_GVN4_3tqOJT"
      },
      "source": [
        "def treatment_control(x):\n",
        "  x_treatment = x.copy(deep=True)\n",
        "  x_control = x.copy(deep=True)\n",
        "  x_treatment.loc[:,'TRTMT'] = 1\n",
        "  x_control.loc[:,'TRTMT'] = 0\n",
        "  return x_treatment,x_control \n",
        "def risk_reduction(model,data_treatment,data_control):\n",
        "  treatment_risk = model.predict_proba(data_treatment)[:,1]\n",
        "  control_risk = model.predict_proba(data_control)[:,1]\n",
        "  return control_risk - treatment_risk"
      ],
      "execution_count": null,
      "outputs": []
    },
    {
      "cell_type": "code",
      "metadata": {
        "id": "wRA4nGttqOL6"
      },
      "source": [
        "x_test_treated,x_test_untreated = treatment_control(x_test)\n",
        "rr_lr = risk_reduction(lr,x_test_treated,x_test_untreated)"
      ],
      "execution_count": null,
      "outputs": []
    },
    {
      "cell_type": "code",
      "metadata": {
        "id": "criC6ACtqOOd",
        "colab": {
          "base_uri": "https://localhost:8080/",
          "height": 295
        },
        "outputId": "312ee599-2b76-4bf8-a37e-d87bb8c86f5d"
      },
      "source": [
        "plt.hist(rr_lr, bins='auto')\n",
        "plt.title(\"Histogram of Predicted ARR using logistic regression\")\n",
        "plt.ylabel(\"count of patients\")\n",
        "plt.xlabel(\"ARR\")\n",
        "plt.show()"
      ],
      "execution_count": null,
      "outputs": [
        {
          "output_type": "display_data",
          "data": {
            "image/png": "[encoded data removed]",
            "text/plain": [
              "<Figure size 432x288 with 1 Axes>"
            ]
          },
          "metadata": {
            "tags": [],
            "needs_background": "light"
          }
        }
      ]
    },
    {
      "cell_type": "code",
      "metadata": {
        "id": "1HAT2IKuqORQ",
        "colab": {
          "base_uri": "https://localhost:8080/"
        },
        "outputId": "147b1157-2b2d-44c5-cec9-1f883fb4e3d7"
      },
      "source": [
        "tmp_cstat_test = c_statistics(rr_lr, y_test, x_test.TRTMT)\n",
        "print(f\"Logistic Regression evaluated by C-for-Benefit: {tmp_cstat_test:.4f}\")"
      ],
      "execution_count": null,
      "outputs": [
        {
          "output_type": "stream",
          "text": [
            "Logistic Regression evaluated by C-for-Benefit: 0.4636\n"
          ],
          "name": "stdout"
        }
      ]
    },
    {
      "cell_type": "code",
      "metadata": {
        "colab": {
          "base_uri": "https://localhost:8080/"
        },
        "id": "i8AxSii_JNjS",
        "outputId": "45e4f3cb-ba41-4d82-c686-4ecfebc191fc"
      },
      "source": [
        "!pip install lifelines"
      ],
      "execution_count": null,
      "outputs": [
        {
          "output_type": "stream",
          "text": [
            "Successfully installed autograd-gamma-0.5.0 formulaic-0.2.3 interface-meta-1.2.3 lifelines-0.26.0\n"
          ],
          "name": "stdout"
        }
      ]
    },
    {
      "cell_type": "code",
      "metadata": {
        "id": "eL-45PTEqOTy",
        "colab": {
          "base_uri": "https://localhost:8080/"
        },
        "outputId": "463037d3-a8c0-4af4-b936-1679a7d1fc6f"
      },
      "source": [
        "from lifelines.utils import concordance_index\n",
        "tmp_regular_cindex = concordance_index(y_test, lr.predict_proba(x_test)[:, 1])\n",
        "print(f\"Logistic Regression evaluated by regular C-index: {tmp_regular_cindex:.4f}\")"
      ],
      "execution_count": null,
      "outputs": [
        {
          "output_type": "stream",
          "text": [
            "Logistic Regression evaluated by regular C-index: 0.7785\n"
          ],
          "name": "stdout"
        }
      ]
    },
    {
      "cell_type": "code",
      "metadata": {
        "id": "5Y_7zejfqOWd",
        "colab": {
          "base_uri": "https://localhost:8080/",
          "height": 295
        },
        "outputId": "79aeb576-5265-4503-e298-0eace3d0710b"
      },
      "source": [
        "def quantile_benefit(x, y, arr_hat):\n",
        "    df = x.copy(deep=True)\n",
        "    df.loc[:, 'y'] = y\n",
        "    df.loc[:, 'benefit'] = arr_hat\n",
        "    benefit_groups = pd.qcut(arr_hat, 10)\n",
        "    df.loc[:, 'benefit_groups'] = benefit_groups\n",
        "    empirical_benefit = df.loc[df.TRTMT == 0, :].groupby('benefit_groups').y.mean() - df.loc[df.TRTMT == 1].groupby('benefit_groups').y.mean()\n",
        "    avg_benefit = df.loc[df.TRTMT == 0, :].y.mean() - df.loc[df.TRTMT==1, :].y.mean()\n",
        "    return empirical_benefit, avg_benefit\n",
        "\n",
        "def plot_empirical_risk_reduction(emp_benefit, av_benefit, model):\n",
        "    plt.scatter(range(len(emp_benefit)), emp_benefit)\n",
        "    plt.xticks(range(len(emp_benefit)), range(1, len(emp_benefit) + 1))\n",
        "    plt.title(\"Empirical Risk Reduction vs. Predicted ({})\".format(model))\n",
        "    plt.ylabel(\"Empirical Risk Reduction\")\n",
        "    plt.xlabel(\"Predicted Risk Reduction Quantile\")\n",
        "    plt.plot(range(10), [av_benefit]*10, linestyle='--', label='average RR')\n",
        "    plt.legend(loc='lower right')\n",
        "    plt.show()\n",
        "\n",
        "emp_benefit, avg_benefit = quantile_benefit(x_test, y_test, rr_lr)\n",
        "plot_empirical_risk_reduction(emp_benefit, avg_benefit, \"Logistic Regression\")"
      ],
      "execution_count": null,
      "outputs": [
        {
          "output_type": "display_data",
          "data": {
            "image/png": "[encoded data removed]",
            "text/plain": [
              "<Figure size 432x288 with 1 Axes>"
            ]
          },
          "metadata": {
            "tags": [],
            "needs_background": "light"
          }
        }
      ]
    },
    {
      "cell_type": "code",
      "metadata": {
        "id": "kUusRHPNqOdO"
      },
      "source": [
        "class TLearner():\n",
        "  def __init__(self,treatment_estimator,control_estimator):\n",
        "    self.treatment_estimator = treatment_estimator \n",
        "    self.control_estimator = control_estimator \n",
        "  def predict(self,x):\n",
        "    risk_control = self.control_estimator.predict_proba(x)[:,1]\n",
        "    risk_treatment = self.treatment_estimator.predict_proba(x)[:,1]\n",
        "    pred_risk_reduction = risk_control - risk_treatment \n",
        "    return pred_risk_reduction "
      ],
      "execution_count": null,
      "outputs": []
    },
    {
      "cell_type": "code",
      "metadata": {
        "id": "vYGQAqDeqOiK"
      },
      "source": [
        "def holdout_grid_search(clf,x_train_hp,y_train_hp,x_val_hp,y_val_hp,hyperparam,verbose=False):\n",
        "  best_estimator = None \n",
        "  best_hyperparam = {}\n",
        "  best_score = 0.0\n",
        "  hyper_param_l = list(hyperparam.values())\n",
        "  combination_l_of_t = list(itertools.product(*hyper_param_l))\n",
        "  combination_l_of_d = []\n",
        "  for val_tuple in combination_l_of_t:\n",
        "    param_d = {}\n",
        "    for i,k in enumerate(hyperparam.keys()):\n",
        "      param_d[k] = val_tuple[i]\n",
        "    combination_l_of_d.append(param_d)\n",
        "  for param_id in combination_l_of_d:\n",
        "    estimator = clf(**param_d)\n",
        "    estimator.fit(x_train_hp,y_train_hp)\n",
        "    preds = estimator.predict_proba(x_val_hp)[:,1]\n",
        "    estimator_score = concordance_index(y_val_hp,preds)\n",
        "    if estimator_score > best_score:\n",
        "      best_score = estimator_score \n",
        "      best_estimator = estimator\n",
        "      best_hyperparam = param_d\n",
        "  if verbose:\n",
        "    print(\"hyperparam:\")\n",
        "    display(hyperparam)\n",
        "    print(\"hyper_param_l\")\n",
        "    display(hyper_param_l)\n",
        "    print(\"combination_l_of_t\")\n",
        "    display(combination_l_of_t)\n",
        "    print(f\"combination_l_of_d\")\n",
        "    display(combination_l_of_d)\n",
        "    print(f\"best_hyperparam\")\n",
        "    display(best_hyperparam)\n",
        "    print(f\"best_score: {best_score:.4f}\")\n",
        "  return best_estimator, best_hyperparam"
      ],
      "execution_count": null,
      "outputs": []
    },
    {
      "cell_type": "code",
      "metadata": {
        "id": "faoqex0XqOmB"
      },
      "source": [
        "def treatment_dataset_split(x_train,y_train,x_val,y_val):\n",
        "  x_treat_train = x_train[x_train['TRTMT']==1]\n",
        "  x_treat_train = x_treat_train.drop(\"TRTMT\",axis=1)\n",
        "  y_treat_train = y_train[x_train['TRTMT']==1]\n",
        "  x_treat_val = x_val[x_val[\"TRTMT\"]==1]\n",
        "  x_treat_val = x_treat_val.drop(\"TRTMT\",axis=1)\n",
        "  y_treat_val = y_val[x_val[\"TRTMT\"]==1]\n",
        "  x_control_train = x_train[x_train[\"TRTMT\"]==0]\n",
        "  x_control_train = x_control_train.drop('TRTMT',axis=1)\n",
        "  y_control_train = y_train[x_train[\"TRTMT\"]==0]\n",
        "  x_control_val = x_val[x_val[\"TRTMT\"]==0]\n",
        "  x_control_val = x_control_val.drop('TRTMT',axis=1)\n",
        "  y_control_val = y_val[x_val[\"TRTMT\"]==0]\n",
        "  return (x_treat_train, y_treat_train,\n",
        "            x_treat_val, y_treat_val,\n",
        "            x_control_train, y_control_train,\n",
        "            x_control_val, y_control_val)\n"
      ],
      "execution_count": null,
      "outputs": []
    },
    {
      "cell_type": "code",
      "metadata": {
        "id": "yeCCPUcLHMmS"
      },
      "source": [
        "from sklearn.ensemble import RandomForestClassifier\n",
        "x_train, x_val, y_train, y_val = train_test_split(x_dev, \n",
        "                                                  y_dev, \n",
        "                                                  test_size = 0.25,\n",
        "                                                  random_state = 0)"
      ],
      "execution_count": null,
      "outputs": []
    },
    {
      "cell_type": "code",
      "metadata": {
        "id": "zDM5q_fvXiKd"
      },
      "source": [
        "(x_treat_train, y_treat_train, \n",
        " x_treat_val, y_treat_val,\n",
        " x_control_train, y_control_train,\n",
        " x_control_val, y_control_val) = treatment_dataset_split(x_train, y_train,\n",
        "                                                         x_val, y_val)"
      ],
      "execution_count": null,
      "outputs": []
    },
    {
      "cell_type": "code",
      "metadata": {
        "id": "1aQbMV4OXiOZ"
      },
      "source": [
        "hyperparams = {\n",
        "    'n_estimators': [100, 200],\n",
        "    'max_depth': [2, 5, 10, 40, None],\n",
        "    'min_samples_leaf': [1, 0.1, 0.2],\n",
        "    'random_state': [0]\n",
        "}"
      ],
      "execution_count": null,
      "outputs": []
    },
    {
      "cell_type": "code",
      "metadata": {
        "id": "2FzrX6hlXiS7"
      },
      "source": [
        "treatment_model, best_hyperparam_treat  = holdout_grid_search(RandomForestClassifier,\n",
        "                                      x_treat_train, y_treat_train,\n",
        "                                      x_treat_val, y_treat_val, hyperparams)"
      ],
      "execution_count": null,
      "outputs": []
    },
    {
      "cell_type": "code",
      "metadata": {
        "id": "2dmIhffzXiWI"
      },
      "source": [
        "control_model, best_hyperparam_ctrl = holdout_grid_search(RandomForestClassifier,\n",
        "                                    x_control_train, y_control_train,\n",
        "                                    x_control_val, y_control_val, hyperparams)"
      ],
      "execution_count": null,
      "outputs": []
    },
    {
      "cell_type": "code",
      "metadata": {
        "id": "BsSt3it7XiZ2"
      },
      "source": [
        "t_learner = TLearner(treatment_model, control_model)"
      ],
      "execution_count": null,
      "outputs": []
    },
    {
      "cell_type": "code",
      "metadata": {
        "colab": {
          "base_uri": "https://localhost:8080/"
        },
        "id": "mVC3dTqrXicq",
        "outputId": "c0f7c906-2b12-4486-caf2-3c802fb61dc8"
      },
      "source": [
        "rr_t_val = t_learner.predict(x_val.drop(['TRTMT'], axis=1))\n",
        "print(f\"X_val num of patients {x_val.shape[0]}\")\n",
        "print(f\"rr_t_val num of patient predictions {rr_t_val.shape[0]}\")"
      ],
      "execution_count": null,
      "outputs": [
        {
          "output_type": "stream",
          "text": [
            "X_val num of patients 114\n",
            "rr_t_val num of patient predictions 114\n"
          ],
          "name": "stdout"
        }
      ]
    },
    {
      "cell_type": "code",
      "metadata": {
        "colab": {
          "base_uri": "https://localhost:8080/",
          "height": 295
        },
        "id": "DmeZrDp1XifO",
        "outputId": "8754bb11-fb23-442e-d95d-6d2bd590a888"
      },
      "source": [
        "plt.hist(rr_t_val, bins='auto')\n",
        "plt.title(\"Histogram of Predicted ARR, T-Learner, validation set\")\n",
        "plt.xlabel('predicted risk reduction')\n",
        "plt.ylabel('count of patients')\n",
        "plt.show()"
      ],
      "execution_count": null,
      "outputs": [
        {
          "output_type": "display_data",
          "data": {
            "image/png": "[encoded data removed]",
            "text/plain": [
              "<Figure size 432x288 with 1 Axes>"
            ]
          },
          "metadata": {
            "tags": [],
            "needs_background": "light"
          }
        }
      ]
    },
    {
      "cell_type": "code",
      "metadata": {
        "colab": {
          "base_uri": "https://localhost:8080/",
          "height": 295
        },
        "id": "Anm_ifwDXihy",
        "outputId": "28eed88b-9398-49ce-d5ca-e2016e8c0854"
      },
      "source": [
        "empirical_benefit, avg_benefit = quantile_benefit(x_val, y_val, rr_t_val)\n",
        "plot_empirical_risk_reduction(empirical_benefit, avg_benefit, 'T Learner [val set]')"
      ],
      "execution_count": null,
      "outputs": [
        {
          "output_type": "display_data",
          "data": {
            "image/png": "[encoded data removed]",
            "text/plain": [
              "<Figure size 432x288 with 1 Axes>"
            ]
          },
          "metadata": {
            "tags": [],
            "needs_background": "light"
          }
        }
      ]
    },
    {
      "cell_type": "code",
      "metadata": {
        "colab": {
          "base_uri": "https://localhost:8080/"
        },
        "id": "jydO2_QJbZBI",
        "outputId": "38b128f2-709d-4bf4-edcb-ce7038a77e98"
      },
      "source": [
        "c_for_benefit_tlearner_val_set = c_statistics(rr_t_val, y_val, x_val.TRTMT)\n",
        "print(f\"C-for-benefit statistic of T-learner on val set: {c_for_benefit_tlearner_val_set:.4f}\")"
      ],
      "execution_count": null,
      "outputs": [
        {
          "output_type": "stream",
          "text": [
            "C-for-benefit statistic of T-learner on val set: 0.2637\n"
          ],
          "name": "stdout"
        }
      ]
    },
    {
      "cell_type": "code",
      "metadata": {
        "id": "OfyZFGN1ct7I"
      },
      "source": [
        "rr_t_test = t_learner.predict(x_test.drop(['TRTMT'], axis=1))"
      ],
      "execution_count": null,
      "outputs": []
    },
    {
      "cell_type": "code",
      "metadata": {
        "colab": {
          "base_uri": "https://localhost:8080/",
          "height": 295
        },
        "id": "ckzHqgdNcuDk",
        "outputId": "44a01b5d-7488-4b06-c5c0-21ba7c494fe1"
      },
      "source": [
        "plt.hist(rr_t_test, bins='auto')\n",
        "plt.title(\"Histogram of Predicted ARR for the T-learner on test set\")\n",
        "plt.xlabel(\"predicted risk reduction\")\n",
        "plt.ylabel(\"count of patients\")\n",
        "plt.show()"
      ],
      "execution_count": null,
      "outputs": [
        {
          "output_type": "display_data",
          "data": {
            "image/png": "[encoded data removed]",
            "text/plain": [
              "<Figure size 432x288 with 1 Axes>"
            ]
          },
          "metadata": {
            "tags": [],
            "needs_background": "light"
          }
        }
      ]
    },
    {
      "cell_type": "code",
      "metadata": {
        "colab": {
          "base_uri": "https://localhost:8080/",
          "height": 295
        },
        "id": "BTLxcZK9cuQo",
        "outputId": "6e577261-e227-4b70-fcc3-abef27b42460"
      },
      "source": [
        "empirical_benefit, avg_benefit = quantile_benefit(x_test, y_test, rr_t_test)\n",
        "plot_empirical_risk_reduction(empirical_benefit, avg_benefit, 'T Learner (test set)')"
      ],
      "execution_count": null,
      "outputs": [
        {
          "output_type": "display_data",
          "data": {
            "image/png": "[encoded data removed]",
            "text/plain": [
              "<Figure size 432x288 with 1 Axes>"
            ]
          },
          "metadata": {
            "tags": [],
            "needs_background": "light"
          }
        }
      ]
    },
    {
      "cell_type": "code",
      "metadata": {
        "colab": {
          "base_uri": "https://localhost:8080/"
        },
        "id": "K7hTYp6fdD6g",
        "outputId": "3ba00b85-44d3-4eb4-d6f4-ea45ae0c5e63"
      },
      "source": [
        "c_for_benefit_tlearner_test_set = c_statistics(rr_t_test, y_test, x_test.TRTMT)\n",
        "print(f\"C-for-benefit statistic of T-learner on test set: {c_for_benefit_tlearner_test_set:.4f}\")"
      ],
      "execution_count": null,
      "outputs": [
        {
          "output_type": "stream",
          "text": [
            "C-for-benefit statistic of T-learner on test set: 0.3348\n"
          ],
          "name": "stdout"
        }
      ]
    }
  ]
}